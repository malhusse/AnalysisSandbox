{
 "cells": [
  {
   "cell_type": "markdown",
   "metadata": {
    "scrolled": true
   },
   "source": [
    "### import sys,os,glob"
   ]
  },
  {
   "cell_type": "code",
   "execution_count": 2,
   "metadata": {
    "scrolled": true
   },
   "outputs": [
    {
     "name": "stdout",
     "output_type": "stream",
     "text": [
      "Welcome to JupyROOT 6.16/00\n"
     ]
    }
   ],
   "source": [
    "import ROOT as R\n",
    "from array import array"
   ]
  },
  {
   "cell_type": "code",
   "execution_count": 3,
   "metadata": {
    "scrolled": true
   },
   "outputs": [],
   "source": [
    "R.TMVA.PyMethodBase.PyInitialize()  "
   ]
  },
  {
   "cell_type": "code",
   "execution_count": 4,
   "metadata": {
    "scrolled": true
   },
   "outputs": [],
   "source": [
    "reader = R.TMVA.Reader()"
   ]
  },
  {
   "cell_type": "code",
   "execution_count": 5,
   "metadata": {
    "scrolled": true
   },
   "outputs": [],
   "source": [
    "var1 = array('f',[0]); reader.AddVariable(\"h_pt\",var1)\n",
    "var2 = array('f',[0]); reader.AddVariable(\"h_eta\",var2)\n",
    "# var3 = array('f',[0]); reader.AddVariable(\"h_phi\",var3)\n",
    "var4 = array('f',[0]); reader.AddVariable(\"h_deta\",var4)\n",
    "var5 = array('f',[0]); reader.AddVariable(\"h_dphi\",var5)\n",
    "var6 = array('f',[0]); reader.AddVariable(\"jeteta_1\",var6)\n",
    "var7 = array('f',[0]); reader.AddVariable(\"jeteta_2\",var7)\n",
    "var8 = array('f',[0]); reader.AddVariable(\"ncentJets\",var8)\n",
    "var9 = array('f',[0]); reader.AddVariable(\"njets\",var9)\n",
    "var10 = array('f',[0]); reader.AddVariable(\"mjj_1\",var10)\n",
    "var11 = array('f',[0]); reader.AddVariable(\"mjj_2\",var11)\n",
    "var12 = array('f',[0]); reader.AddVariable(\"detajj_1\",var12)\n",
    "var13 = array('f',[0]); reader.AddVariable(\"detajj_2\",var13)\n",
    "var14 = array('f',[0]); reader.AddVariable(\"nbtagJets\",var14)\n",
    "var15 = array('f',[0]); reader.AddVariable(\"metpt\",var15)"
   ]
  },
  {
   "cell_type": "code",
   "execution_count": 6,
   "metadata": {
    "scrolled": true
   },
   "outputs": [],
   "source": [
    "# var16 = array('f',[0]); reader.AddSpectator(\"h_mass\",var16)"
   ]
  },
  {
   "cell_type": "code",
   "execution_count": 7,
   "metadata": {
    "scrolled": true
   },
   "outputs": [
    {
     "name": "stderr",
     "output_type": "stream",
     "text": [
      "Using TensorFlow backend.\n"
     ]
    },
    {
     "data": {
      "text/plain": [
       "<ROOT.TMVA::MethodPyKeras object (\"DNN\") at 0x55f451d59270>"
      ]
     },
     "execution_count": 7,
     "metadata": {},
     "output_type": "execute_result"
    },
    {
     "name": "stdout",
     "output_type": "stream",
     "text": [
      "                         : Booking \"BDTG\" of type \"PyKeras\" from train_BOTH/dataset_f/weights/factory_DNN.weights.xml.\n",
      "                         : Reading weight file: train_BOTH/dataset_f/weights/factory_DNN.weights.xml\n",
      "<WARNING> <WARNING>                : Value for option tensorboard was previously set to \n",
      "<HEADER> DataSetInfo              : [Default] : Added class \"Signal\"\n",
      "<HEADER> DataSetInfo              : [Default] : Added class \"Background\"\n",
      "                         : Booked classifier \"DNN\" of type: \"PyKeras\"\n"
     ]
    }
   ],
   "source": [
    "reader.BookMVA(\"BDTG\",\"train_BOTH/dataset_f/weights/factory_DNN.weights.xml\")\n",
    "\n"
   ]
  },
  {
   "cell_type": "code",
   "execution_count": 8,
   "metadata": {
    "scrolled": true
   },
   "outputs": [],
   "source": [
    "files = glob.glob(\"/home/mo/Analysis/AnalysisTools/ntupleFiles/*.root\")                      \n",
    "t = R.TChain(\"ntupledData\")\n"
   ]
  },
  {
   "cell_type": "code",
   "execution_count": 9,
   "metadata": {
    "scrolled": true
   },
   "outputs": [],
   "source": [
    "for file in files:\n",
    "    t.Add(file)"
   ]
  },
  {
   "cell_type": "code",
   "execution_count": 10,
   "metadata": {
    "scrolled": false
   },
   "outputs": [],
   "source": [
    "eventCut = R.TCut(\"(h_mass > 100 && h_mass < 150) && Entry$%2!=0\")"
   ]
  },
  {
   "cell_type": "code",
   "execution_count": 11,
   "metadata": {},
   "outputs": [
    {
     "data": {
      "text/plain": [
       "4035214"
      ]
     },
     "execution_count": 11,
     "metadata": {},
     "output_type": "execute_result"
    }
   ],
   "source": [
    "t.GetEntries()"
   ]
  },
  {
   "cell_type": "code",
   "execution_count": 12,
   "metadata": {},
   "outputs": [],
   "source": [
    "t2 = t.CopyTree(\"(h_mass > 100 && h_mass < 150) && Entry$%2==0\")"
   ]
  },
  {
   "cell_type": "code",
   "execution_count": 13,
   "metadata": {},
   "outputs": [
    {
     "data": {
      "text/plain": [
       "1902552"
      ]
     },
     "execution_count": 13,
     "metadata": {},
     "output_type": "execute_result"
    }
   ],
   "source": [
    "t2.GetEntries()"
   ]
  },
  {
   "cell_type": "code",
   "execution_count": null,
   "metadata": {
    "scrolled": true
   },
   "outputs": [],
   "source": [
    "i = 0\n",
    "for e in bkgtuple:\n",
    "    if i == 100:\n",
    "        break\n",
    "    i += 1\n",
    "    var1[0]=e.h_pt\n",
    "    var2[0]=e.h_eta\n",
    "    var3[0]=e.h_phi\n",
    "    var4[0]=e.h_deta\n",
    "    var5[0]=e.h_dphi\n",
    "    var6[0]=e.mueta_1\n",
    "    var7[0]=e.mueta_2\n",
    "    var8[0]=e.ncentJets\n",
    "    var9[0]=e.njets\n",
    "    var10[0]=e.mjj_1\n",
    "    var11[0]=e.mjj_2\n",
    "    var12[0]=e.detajj_1\n",
    "    var13[0]=e.detajj_2\n",
    "    var14[0]=e.nbtagJets\n",
    "    var15[0]=e.metpt\n",
    "    var16[0]=e.h_mass\n",
    "        \n",
    "    bdt = reader.EvaluateMVA(\"BDTG\")\n",
    "    print(bdt)"
   ]
  },
  {
   "cell_type": "code",
   "execution_count": null,
   "metadata": {
    "scrolled": true
   },
   "outputs": [],
   "source": []
  }
 ],
 "metadata": {
  "kernelspec": {
   "display_name": "Python 3",
   "language": "python",
   "name": "python3"
  },
  "language_info": {
   "codemirror_mode": {
    "name": "ipython",
    "version": 3
   },
   "file_extension": ".py",
   "mimetype": "text/x-python",
   "name": "python",
   "nbconvert_exporter": "python",
   "pygments_lexer": "ipython3",
   "version": "3.7.3"
  }
 },
 "nbformat": 4,
 "nbformat_minor": 2
}
