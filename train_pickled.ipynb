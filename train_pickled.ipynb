{
 "cells": [
  {
   "cell_type": "code",
   "execution_count": 1,
   "metadata": {},
   "outputs": [
    {
     "name": "stderr",
     "output_type": "stream",
     "text": [
      "Using TensorFlow backend.\n"
     ]
    }
   ],
   "source": [
    "import pandas as pd\n",
    "from keras.models import Sequential\n",
    "from keras.layers import Dense, Dropout, BatchNormalization, Activation"
   ]
  },
  {
   "cell_type": "code",
   "execution_count": 2,
   "metadata": {},
   "outputs": [
    {
     "ename": "FileNotFoundError",
     "evalue": "[Errno 2] No such file or directory: 'trainingDF.pkl'",
     "output_type": "error",
     "traceback": [
      "\u001b[0;31m---------------------------------------------------------------------------\u001b[0m",
      "\u001b[0;31mFileNotFoundError\u001b[0m                         Traceback (most recent call last)",
      "\u001b[0;32m~/anaconda3/lib/python3.6/site-packages/pandas/io/pickle.py\u001b[0m in \u001b[0;36mtry_read\u001b[0;34m(path, encoding)\u001b[0m\n\u001b[1;32m    165\u001b[0m                 \u001b[0;31m# We want to silencce any warnings about, e.g. moved modules.\u001b[0m\u001b[0;34m\u001b[0m\u001b[0;34m\u001b[0m\u001b[0m\n\u001b[0;32m--> 166\u001b[0;31m                 \u001b[0;32mreturn\u001b[0m \u001b[0mread_wrapper\u001b[0m\u001b[0;34m(\u001b[0m\u001b[0;32mlambda\u001b[0m \u001b[0mf\u001b[0m\u001b[0;34m:\u001b[0m \u001b[0mpkl\u001b[0m\u001b[0;34m.\u001b[0m\u001b[0mload\u001b[0m\u001b[0;34m(\u001b[0m\u001b[0mf\u001b[0m\u001b[0;34m)\u001b[0m\u001b[0;34m)\u001b[0m\u001b[0;34m\u001b[0m\u001b[0m\n\u001b[0m\u001b[1;32m    167\u001b[0m         \u001b[0;32mexcept\u001b[0m \u001b[0mException\u001b[0m\u001b[0;34m:\u001b[0m\u001b[0;34m\u001b[0m\u001b[0m\n",
      "\u001b[0;32m~/anaconda3/lib/python3.6/site-packages/pandas/io/pickle.py\u001b[0m in \u001b[0;36mread_wrapper\u001b[0;34m(func)\u001b[0m\n\u001b[1;32m    146\u001b[0m                             \u001b[0mcompression\u001b[0m\u001b[0;34m=\u001b[0m\u001b[0minferred_compression\u001b[0m\u001b[0;34m,\u001b[0m\u001b[0;34m\u001b[0m\u001b[0m\n\u001b[0;32m--> 147\u001b[0;31m                             is_text=False)\n\u001b[0m\u001b[1;32m    148\u001b[0m         \u001b[0;32mtry\u001b[0m\u001b[0;34m:\u001b[0m\u001b[0;34m\u001b[0m\u001b[0m\n",
      "\u001b[0;32m~/anaconda3/lib/python3.6/site-packages/pandas/io/common.py\u001b[0m in \u001b[0;36m_get_handle\u001b[0;34m(path_or_buf, mode, encoding, compression, memory_map, is_text)\u001b[0m\n\u001b[1;32m    405\u001b[0m             \u001b[0;31m# Python 3 and binary mode\u001b[0m\u001b[0;34m\u001b[0m\u001b[0;34m\u001b[0m\u001b[0m\n\u001b[0;32m--> 406\u001b[0;31m             \u001b[0mf\u001b[0m \u001b[0;34m=\u001b[0m \u001b[0mopen\u001b[0m\u001b[0;34m(\u001b[0m\u001b[0mpath_or_buf\u001b[0m\u001b[0;34m,\u001b[0m \u001b[0mmode\u001b[0m\u001b[0;34m)\u001b[0m\u001b[0;34m\u001b[0m\u001b[0m\n\u001b[0m\u001b[1;32m    407\u001b[0m         \u001b[0mhandles\u001b[0m\u001b[0;34m.\u001b[0m\u001b[0mappend\u001b[0m\u001b[0;34m(\u001b[0m\u001b[0mf\u001b[0m\u001b[0;34m)\u001b[0m\u001b[0;34m\u001b[0m\u001b[0m\n",
      "\u001b[0;31mFileNotFoundError\u001b[0m: [Errno 2] No such file or directory: 'trainingDF.pkl'",
      "\nDuring handling of the above exception, another exception occurred:\n",
      "\u001b[0;31mFileNotFoundError\u001b[0m                         Traceback (most recent call last)",
      "\u001b[0;32m~/anaconda3/lib/python3.6/site-packages/pandas/io/pickle.py\u001b[0m in \u001b[0;36mtry_read\u001b[0;34m(path, encoding)\u001b[0m\n\u001b[1;32m    170\u001b[0m                 return read_wrapper(\n\u001b[0;32m--> 171\u001b[0;31m                     lambda f: pc.load(f, encoding=encoding, compat=False))\n\u001b[0m\u001b[1;32m    172\u001b[0m             \u001b[0;31m# compat pickle\u001b[0m\u001b[0;34m\u001b[0m\u001b[0;34m\u001b[0m\u001b[0m\n",
      "\u001b[0;32m~/anaconda3/lib/python3.6/site-packages/pandas/io/pickle.py\u001b[0m in \u001b[0;36mread_wrapper\u001b[0;34m(func)\u001b[0m\n\u001b[1;32m    146\u001b[0m                             \u001b[0mcompression\u001b[0m\u001b[0;34m=\u001b[0m\u001b[0minferred_compression\u001b[0m\u001b[0;34m,\u001b[0m\u001b[0;34m\u001b[0m\u001b[0m\n\u001b[0;32m--> 147\u001b[0;31m                             is_text=False)\n\u001b[0m\u001b[1;32m    148\u001b[0m         \u001b[0;32mtry\u001b[0m\u001b[0;34m:\u001b[0m\u001b[0;34m\u001b[0m\u001b[0m\n",
      "\u001b[0;32m~/anaconda3/lib/python3.6/site-packages/pandas/io/common.py\u001b[0m in \u001b[0;36m_get_handle\u001b[0;34m(path_or_buf, mode, encoding, compression, memory_map, is_text)\u001b[0m\n\u001b[1;32m    405\u001b[0m             \u001b[0;31m# Python 3 and binary mode\u001b[0m\u001b[0;34m\u001b[0m\u001b[0;34m\u001b[0m\u001b[0m\n\u001b[0;32m--> 406\u001b[0;31m             \u001b[0mf\u001b[0m \u001b[0;34m=\u001b[0m \u001b[0mopen\u001b[0m\u001b[0;34m(\u001b[0m\u001b[0mpath_or_buf\u001b[0m\u001b[0;34m,\u001b[0m \u001b[0mmode\u001b[0m\u001b[0;34m)\u001b[0m\u001b[0;34m\u001b[0m\u001b[0m\n\u001b[0m\u001b[1;32m    407\u001b[0m         \u001b[0mhandles\u001b[0m\u001b[0;34m.\u001b[0m\u001b[0mappend\u001b[0m\u001b[0;34m(\u001b[0m\u001b[0mf\u001b[0m\u001b[0;34m)\u001b[0m\u001b[0;34m\u001b[0m\u001b[0m\n",
      "\u001b[0;31mFileNotFoundError\u001b[0m: [Errno 2] No such file or directory: 'trainingDF.pkl'",
      "\nDuring handling of the above exception, another exception occurred:\n",
      "\u001b[0;31mFileNotFoundError\u001b[0m                         Traceback (most recent call last)",
      "\u001b[0;32m~/anaconda3/lib/python3.6/site-packages/pandas/io/pickle.py\u001b[0m in \u001b[0;36mread_pickle\u001b[0;34m(path, compression)\u001b[0m\n\u001b[1;32m    176\u001b[0m     \u001b[0;32mtry\u001b[0m\u001b[0;34m:\u001b[0m\u001b[0;34m\u001b[0m\u001b[0m\n\u001b[0;32m--> 177\u001b[0;31m         \u001b[0;32mreturn\u001b[0m \u001b[0mtry_read\u001b[0m\u001b[0;34m(\u001b[0m\u001b[0mpath\u001b[0m\u001b[0;34m)\u001b[0m\u001b[0;34m\u001b[0m\u001b[0m\n\u001b[0m\u001b[1;32m    178\u001b[0m     \u001b[0;32mexcept\u001b[0m\u001b[0;34m:\u001b[0m\u001b[0;34m\u001b[0m\u001b[0m\n",
      "\u001b[0;32m~/anaconda3/lib/python3.6/site-packages/pandas/io/pickle.py\u001b[0m in \u001b[0;36mtry_read\u001b[0;34m(path, encoding)\u001b[0m\n\u001b[1;32m    174\u001b[0m                 return read_wrapper(\n\u001b[0;32m--> 175\u001b[0;31m                     lambda f: pc.load(f, encoding=encoding, compat=True))\n\u001b[0m\u001b[1;32m    176\u001b[0m     \u001b[0;32mtry\u001b[0m\u001b[0;34m:\u001b[0m\u001b[0;34m\u001b[0m\u001b[0m\n",
      "\u001b[0;32m~/anaconda3/lib/python3.6/site-packages/pandas/io/pickle.py\u001b[0m in \u001b[0;36mread_wrapper\u001b[0;34m(func)\u001b[0m\n\u001b[1;32m    146\u001b[0m                             \u001b[0mcompression\u001b[0m\u001b[0;34m=\u001b[0m\u001b[0minferred_compression\u001b[0m\u001b[0;34m,\u001b[0m\u001b[0;34m\u001b[0m\u001b[0m\n\u001b[0;32m--> 147\u001b[0;31m                             is_text=False)\n\u001b[0m\u001b[1;32m    148\u001b[0m         \u001b[0;32mtry\u001b[0m\u001b[0;34m:\u001b[0m\u001b[0;34m\u001b[0m\u001b[0m\n",
      "\u001b[0;32m~/anaconda3/lib/python3.6/site-packages/pandas/io/common.py\u001b[0m in \u001b[0;36m_get_handle\u001b[0;34m(path_or_buf, mode, encoding, compression, memory_map, is_text)\u001b[0m\n\u001b[1;32m    405\u001b[0m             \u001b[0;31m# Python 3 and binary mode\u001b[0m\u001b[0;34m\u001b[0m\u001b[0;34m\u001b[0m\u001b[0m\n\u001b[0;32m--> 406\u001b[0;31m             \u001b[0mf\u001b[0m \u001b[0;34m=\u001b[0m \u001b[0mopen\u001b[0m\u001b[0;34m(\u001b[0m\u001b[0mpath_or_buf\u001b[0m\u001b[0;34m,\u001b[0m \u001b[0mmode\u001b[0m\u001b[0;34m)\u001b[0m\u001b[0;34m\u001b[0m\u001b[0m\n\u001b[0m\u001b[1;32m    407\u001b[0m         \u001b[0mhandles\u001b[0m\u001b[0;34m.\u001b[0m\u001b[0mappend\u001b[0m\u001b[0;34m(\u001b[0m\u001b[0mf\u001b[0m\u001b[0;34m)\u001b[0m\u001b[0;34m\u001b[0m\u001b[0m\n",
      "\u001b[0;31mFileNotFoundError\u001b[0m: [Errno 2] No such file or directory: 'trainingDF.pkl'",
      "\nDuring handling of the above exception, another exception occurred:\n",
      "\u001b[0;31mFileNotFoundError\u001b[0m                         Traceback (most recent call last)",
      "\u001b[0;32m~/anaconda3/lib/python3.6/site-packages/pandas/io/pickle.py\u001b[0m in \u001b[0;36mtry_read\u001b[0;34m(path, encoding)\u001b[0m\n\u001b[1;32m    165\u001b[0m                 \u001b[0;31m# We want to silencce any warnings about, e.g. moved modules.\u001b[0m\u001b[0;34m\u001b[0m\u001b[0;34m\u001b[0m\u001b[0m\n\u001b[0;32m--> 166\u001b[0;31m                 \u001b[0;32mreturn\u001b[0m \u001b[0mread_wrapper\u001b[0m\u001b[0;34m(\u001b[0m\u001b[0;32mlambda\u001b[0m \u001b[0mf\u001b[0m\u001b[0;34m:\u001b[0m \u001b[0mpkl\u001b[0m\u001b[0;34m.\u001b[0m\u001b[0mload\u001b[0m\u001b[0;34m(\u001b[0m\u001b[0mf\u001b[0m\u001b[0;34m)\u001b[0m\u001b[0;34m)\u001b[0m\u001b[0;34m\u001b[0m\u001b[0m\n\u001b[0m\u001b[1;32m    167\u001b[0m         \u001b[0;32mexcept\u001b[0m \u001b[0mException\u001b[0m\u001b[0;34m:\u001b[0m\u001b[0;34m\u001b[0m\u001b[0m\n",
      "\u001b[0;32m~/anaconda3/lib/python3.6/site-packages/pandas/io/pickle.py\u001b[0m in \u001b[0;36mread_wrapper\u001b[0;34m(func)\u001b[0m\n\u001b[1;32m    146\u001b[0m                             \u001b[0mcompression\u001b[0m\u001b[0;34m=\u001b[0m\u001b[0minferred_compression\u001b[0m\u001b[0;34m,\u001b[0m\u001b[0;34m\u001b[0m\u001b[0m\n\u001b[0;32m--> 147\u001b[0;31m                             is_text=False)\n\u001b[0m\u001b[1;32m    148\u001b[0m         \u001b[0;32mtry\u001b[0m\u001b[0;34m:\u001b[0m\u001b[0;34m\u001b[0m\u001b[0m\n",
      "\u001b[0;32m~/anaconda3/lib/python3.6/site-packages/pandas/io/common.py\u001b[0m in \u001b[0;36m_get_handle\u001b[0;34m(path_or_buf, mode, encoding, compression, memory_map, is_text)\u001b[0m\n\u001b[1;32m    405\u001b[0m             \u001b[0;31m# Python 3 and binary mode\u001b[0m\u001b[0;34m\u001b[0m\u001b[0;34m\u001b[0m\u001b[0m\n\u001b[0;32m--> 406\u001b[0;31m             \u001b[0mf\u001b[0m \u001b[0;34m=\u001b[0m \u001b[0mopen\u001b[0m\u001b[0;34m(\u001b[0m\u001b[0mpath_or_buf\u001b[0m\u001b[0;34m,\u001b[0m \u001b[0mmode\u001b[0m\u001b[0;34m)\u001b[0m\u001b[0;34m\u001b[0m\u001b[0m\n\u001b[0m\u001b[1;32m    407\u001b[0m         \u001b[0mhandles\u001b[0m\u001b[0;34m.\u001b[0m\u001b[0mappend\u001b[0m\u001b[0;34m(\u001b[0m\u001b[0mf\u001b[0m\u001b[0;34m)\u001b[0m\u001b[0;34m\u001b[0m\u001b[0m\n",
      "\u001b[0;31mFileNotFoundError\u001b[0m: [Errno 2] No such file or directory: 'trainingDF.pkl'",
      "\nDuring handling of the above exception, another exception occurred:\n",
      "\u001b[0;31mFileNotFoundError\u001b[0m                         Traceback (most recent call last)",
      "\u001b[0;32m~/anaconda3/lib/python3.6/site-packages/pandas/io/pickle.py\u001b[0m in \u001b[0;36mtry_read\u001b[0;34m(path, encoding)\u001b[0m\n\u001b[1;32m    170\u001b[0m                 return read_wrapper(\n\u001b[0;32m--> 171\u001b[0;31m                     lambda f: pc.load(f, encoding=encoding, compat=False))\n\u001b[0m\u001b[1;32m    172\u001b[0m             \u001b[0;31m# compat pickle\u001b[0m\u001b[0;34m\u001b[0m\u001b[0;34m\u001b[0m\u001b[0m\n",
      "\u001b[0;32m~/anaconda3/lib/python3.6/site-packages/pandas/io/pickle.py\u001b[0m in \u001b[0;36mread_wrapper\u001b[0;34m(func)\u001b[0m\n\u001b[1;32m    146\u001b[0m                             \u001b[0mcompression\u001b[0m\u001b[0;34m=\u001b[0m\u001b[0minferred_compression\u001b[0m\u001b[0;34m,\u001b[0m\u001b[0;34m\u001b[0m\u001b[0m\n\u001b[0;32m--> 147\u001b[0;31m                             is_text=False)\n\u001b[0m\u001b[1;32m    148\u001b[0m         \u001b[0;32mtry\u001b[0m\u001b[0;34m:\u001b[0m\u001b[0;34m\u001b[0m\u001b[0m\n",
      "\u001b[0;32m~/anaconda3/lib/python3.6/site-packages/pandas/io/common.py\u001b[0m in \u001b[0;36m_get_handle\u001b[0;34m(path_or_buf, mode, encoding, compression, memory_map, is_text)\u001b[0m\n\u001b[1;32m    405\u001b[0m             \u001b[0;31m# Python 3 and binary mode\u001b[0m\u001b[0;34m\u001b[0m\u001b[0;34m\u001b[0m\u001b[0m\n\u001b[0;32m--> 406\u001b[0;31m             \u001b[0mf\u001b[0m \u001b[0;34m=\u001b[0m \u001b[0mopen\u001b[0m\u001b[0;34m(\u001b[0m\u001b[0mpath_or_buf\u001b[0m\u001b[0;34m,\u001b[0m \u001b[0mmode\u001b[0m\u001b[0;34m)\u001b[0m\u001b[0;34m\u001b[0m\u001b[0m\n\u001b[0m\u001b[1;32m    407\u001b[0m         \u001b[0mhandles\u001b[0m\u001b[0;34m.\u001b[0m\u001b[0mappend\u001b[0m\u001b[0;34m(\u001b[0m\u001b[0mf\u001b[0m\u001b[0;34m)\u001b[0m\u001b[0;34m\u001b[0m\u001b[0m\n",
      "\u001b[0;31mFileNotFoundError\u001b[0m: [Errno 2] No such file or directory: 'trainingDF.pkl'",
      "\nDuring handling of the above exception, another exception occurred:\n",
      "\u001b[0;31mFileNotFoundError\u001b[0m                         Traceback (most recent call last)",
      "\u001b[0;32m<ipython-input-2-0d31747a94d4>\u001b[0m in \u001b[0;36m<module>\u001b[0;34m\u001b[0m\n\u001b[0;32m----> 1\u001b[0;31m \u001b[0mtrainingDF\u001b[0m \u001b[0;34m=\u001b[0m \u001b[0mpd\u001b[0m\u001b[0;34m.\u001b[0m\u001b[0mread_pickle\u001b[0m\u001b[0;34m(\u001b[0m\u001b[0;34m\"trainingDF.pkl\"\u001b[0m\u001b[0;34m)\u001b[0m\u001b[0;34m\u001b[0m\u001b[0m\n\u001b[0m",
      "\u001b[0;32m~/anaconda3/lib/python3.6/site-packages/pandas/io/pickle.py\u001b[0m in \u001b[0;36mread_pickle\u001b[0;34m(path, compression)\u001b[0m\n\u001b[1;32m    178\u001b[0m     \u001b[0;32mexcept\u001b[0m\u001b[0;34m:\u001b[0m\u001b[0;34m\u001b[0m\u001b[0m\n\u001b[1;32m    179\u001b[0m         \u001b[0;32mif\u001b[0m \u001b[0mPY3\u001b[0m\u001b[0;34m:\u001b[0m\u001b[0;34m\u001b[0m\u001b[0m\n\u001b[0;32m--> 180\u001b[0;31m             \u001b[0;32mreturn\u001b[0m \u001b[0mtry_read\u001b[0m\u001b[0;34m(\u001b[0m\u001b[0mpath\u001b[0m\u001b[0;34m,\u001b[0m \u001b[0mencoding\u001b[0m\u001b[0;34m=\u001b[0m\u001b[0;34m'latin1'\u001b[0m\u001b[0;34m)\u001b[0m\u001b[0;34m\u001b[0m\u001b[0m\n\u001b[0m\u001b[1;32m    181\u001b[0m         \u001b[0;32mraise\u001b[0m\u001b[0;34m\u001b[0m\u001b[0m\n\u001b[1;32m    182\u001b[0m \u001b[0;34m\u001b[0m\u001b[0m\n",
      "\u001b[0;32m~/anaconda3/lib/python3.6/site-packages/pandas/io/pickle.py\u001b[0m in \u001b[0;36mtry_read\u001b[0;34m(path, encoding)\u001b[0m\n\u001b[1;32m    173\u001b[0m             \u001b[0;32mexcept\u001b[0m\u001b[0;34m:\u001b[0m\u001b[0;34m\u001b[0m\u001b[0m\n\u001b[1;32m    174\u001b[0m                 return read_wrapper(\n\u001b[0;32m--> 175\u001b[0;31m                     lambda f: pc.load(f, encoding=encoding, compat=True))\n\u001b[0m\u001b[1;32m    176\u001b[0m     \u001b[0;32mtry\u001b[0m\u001b[0;34m:\u001b[0m\u001b[0;34m\u001b[0m\u001b[0m\n\u001b[1;32m    177\u001b[0m         \u001b[0;32mreturn\u001b[0m \u001b[0mtry_read\u001b[0m\u001b[0;34m(\u001b[0m\u001b[0mpath\u001b[0m\u001b[0;34m)\u001b[0m\u001b[0;34m\u001b[0m\u001b[0m\n",
      "\u001b[0;32m~/anaconda3/lib/python3.6/site-packages/pandas/io/pickle.py\u001b[0m in \u001b[0;36mread_wrapper\u001b[0;34m(func)\u001b[0m\n\u001b[1;32m    145\u001b[0m         f, fh = _get_handle(path, 'rb',\n\u001b[1;32m    146\u001b[0m                             \u001b[0mcompression\u001b[0m\u001b[0;34m=\u001b[0m\u001b[0minferred_compression\u001b[0m\u001b[0;34m,\u001b[0m\u001b[0;34m\u001b[0m\u001b[0m\n\u001b[0;32m--> 147\u001b[0;31m                             is_text=False)\n\u001b[0m\u001b[1;32m    148\u001b[0m         \u001b[0;32mtry\u001b[0m\u001b[0;34m:\u001b[0m\u001b[0;34m\u001b[0m\u001b[0m\n\u001b[1;32m    149\u001b[0m             \u001b[0;32mreturn\u001b[0m \u001b[0mfunc\u001b[0m\u001b[0;34m(\u001b[0m\u001b[0mf\u001b[0m\u001b[0;34m)\u001b[0m\u001b[0;34m\u001b[0m\u001b[0m\n",
      "\u001b[0;32m~/anaconda3/lib/python3.6/site-packages/pandas/io/common.py\u001b[0m in \u001b[0;36m_get_handle\u001b[0;34m(path_or_buf, mode, encoding, compression, memory_map, is_text)\u001b[0m\n\u001b[1;32m    404\u001b[0m         \u001b[0;32melse\u001b[0m\u001b[0;34m:\u001b[0m\u001b[0;34m\u001b[0m\u001b[0m\n\u001b[1;32m    405\u001b[0m             \u001b[0;31m# Python 3 and binary mode\u001b[0m\u001b[0;34m\u001b[0m\u001b[0;34m\u001b[0m\u001b[0m\n\u001b[0;32m--> 406\u001b[0;31m             \u001b[0mf\u001b[0m \u001b[0;34m=\u001b[0m \u001b[0mopen\u001b[0m\u001b[0;34m(\u001b[0m\u001b[0mpath_or_buf\u001b[0m\u001b[0;34m,\u001b[0m \u001b[0mmode\u001b[0m\u001b[0;34m)\u001b[0m\u001b[0;34m\u001b[0m\u001b[0m\n\u001b[0m\u001b[1;32m    407\u001b[0m         \u001b[0mhandles\u001b[0m\u001b[0;34m.\u001b[0m\u001b[0mappend\u001b[0m\u001b[0;34m(\u001b[0m\u001b[0mf\u001b[0m\u001b[0;34m)\u001b[0m\u001b[0;34m\u001b[0m\u001b[0m\n\u001b[1;32m    408\u001b[0m \u001b[0;34m\u001b[0m\u001b[0m\n",
      "\u001b[0;31mFileNotFoundError\u001b[0m: [Errno 2] No such file or directory: 'trainingDF.pkl'"
     ]
    }
   ],
   "source": [
    "trainingDF = pd.read_pickle(\"trainingDF.pkl\")"
   ]
  },
  {
   "cell_type": "code",
   "execution_count": 3,
   "metadata": {},
   "outputs": [],
   "source": [
    "model = Sequential()\n",
    "model.add(Dense(225,input_dim=15,activation='relu'))\n",
    "model.add(Dropout(0.2))\n",
    "# model.add(BatchNormalization())\n",
    "model.add(Dense(200,activation='relu'))\n",
    "model.add(Dropout(0.2))\n",
    "model.add(Dense(100,activation='relu'))\n",
    "model.add(Dropout(0.2))\n",
    "model.add(Dense(4,activation='softmax'))"
   ]
  },
  {
   "cell_type": "code",
   "execution_count": 4,
   "metadata": {},
   "outputs": [],
   "source": [
    "model.compile(loss='binary_crossentropy',\n",
    "              optimizer='Adam',\n",
    "              metrics=['accuracy'])"
   ]
  },
  {
   "cell_type": "code",
   "execution_count": 5,
   "metadata": {},
   "outputs": [
    {
     "name": "stdout",
     "output_type": "stream",
     "text": [
      "_________________________________________________________________\n",
      "Layer (type)                 Output Shape              Param #   \n",
      "=================================================================\n",
      "dense_1 (Dense)              (None, 225)               3600      \n",
      "_________________________________________________________________\n",
      "dropout_1 (Dropout)          (None, 225)               0         \n",
      "_________________________________________________________________\n",
      "dense_2 (Dense)              (None, 200)               45200     \n",
      "_________________________________________________________________\n",
      "dropout_2 (Dropout)          (None, 200)               0         \n",
      "_________________________________________________________________\n",
      "dense_3 (Dense)              (None, 100)               20100     \n",
      "_________________________________________________________________\n",
      "dropout_3 (Dropout)          (None, 100)               0         \n",
      "_________________________________________________________________\n",
      "dense_4 (Dense)              (None, 4)                 404       \n",
      "=================================================================\n",
      "Total params: 69,304\n",
      "Trainable params: 69,304\n",
      "Non-trainable params: 0\n",
      "_________________________________________________________________\n"
     ]
    }
   ],
   "source": [
    "model.summary()"
   ]
  },
  {
   "cell_type": "code",
   "execution_count": 6,
   "metadata": {},
   "outputs": [],
   "source": [
    "import numpy as np"
   ]
  },
  {
   "cell_type": "code",
   "execution_count": 7,
   "metadata": {},
   "outputs": [],
   "source": [
    "x_train = trainingDF.drop('label',1).values\n",
    "y_onehot = trainingDF['label'].values\n",
    "y_train = np.array(list(y_onehot))"
   ]
  },
  {
   "cell_type": "code",
   "execution_count": 8,
   "metadata": {},
   "outputs": [
    {
     "data": {
      "text/plain": [
       "(2365667, 4)"
      ]
     },
     "execution_count": 8,
     "metadata": {},
     "output_type": "execute_result"
    }
   ],
   "source": [
    "y_train.shape"
   ]
  },
  {
   "cell_type": "code",
   "execution_count": 9,
   "metadata": {},
   "outputs": [
    {
     "data": {
      "text/plain": [
       "(2365667, 15)"
      ]
     },
     "execution_count": 9,
     "metadata": {},
     "output_type": "execute_result"
    }
   ],
   "source": [
    "x_train.shape"
   ]
  },
  {
   "cell_type": "code",
   "execution_count": 10,
   "metadata": {},
   "outputs": [
    {
     "name": "stdout",
     "output_type": "stream",
     "text": [
      "Train on 1774250 samples, validate on 591417 samples\n",
      "Epoch 1/100\n",
      "1774250/1774250 [==============================] - 7s 4us/step - loss: 0.3945 - acc: 0.7901 - val_loss: 0.3792 - val_acc: 0.8014\n",
      "Epoch 2/100\n",
      "1774250/1774250 [==============================] - 6s 4us/step - loss: 0.3816 - acc: 0.8003 - val_loss: 0.3747 - val_acc: 0.8051\n",
      "Epoch 3/100\n",
      "1774250/1774250 [==============================] - 6s 4us/step - loss: 0.3783 - acc: 0.8036 - val_loss: 0.3718 - val_acc: 0.8090\n",
      "Epoch 4/100\n",
      "1774250/1774250 [==============================] - 6s 4us/step - loss: 0.3746 - acc: 0.8071 - val_loss: 0.3667 - val_acc: 0.8129\n",
      "Epoch 5/100\n",
      "1774250/1774250 [==============================] - 6s 4us/step - loss: 0.3714 - acc: 0.8098 - val_loss: 0.3688 - val_acc: 0.8114\n",
      "Epoch 6/100\n",
      "1774250/1774250 [==============================] - 6s 4us/step - loss: 0.3695 - acc: 0.8113 - val_loss: 0.3613 - val_acc: 0.8174\n",
      "Epoch 7/100\n",
      "1774250/1774250 [==============================] - 6s 4us/step - loss: 0.3678 - acc: 0.8127 - val_loss: 0.3591 - val_acc: 0.8195\n",
      "Epoch 8/100\n",
      "1774250/1774250 [==============================] - 6s 4us/step - loss: 0.3668 - acc: 0.8135 - val_loss: 0.3618 - val_acc: 0.8175\n",
      "Epoch 9/100\n",
      "1774250/1774250 [==============================] - 6s 4us/step - loss: 0.3656 - acc: 0.8145 - val_loss: 0.3584 - val_acc: 0.8197\n",
      "Epoch 10/100\n",
      "1774250/1774250 [==============================] - 6s 4us/step - loss: 0.3648 - acc: 0.8152 - val_loss: 0.3601 - val_acc: 0.8186\n",
      "Epoch 11/100\n",
      "1774250/1774250 [==============================] - 7s 4us/step - loss: 0.3637 - acc: 0.8161 - val_loss: 0.3562 - val_acc: 0.8215\n",
      "Epoch 12/100\n",
      "1774250/1774250 [==============================] - 6s 4us/step - loss: 0.3628 - acc: 0.8173 - val_loss: 0.3564 - val_acc: 0.8207\n",
      "Epoch 13/100\n",
      "1774250/1774250 [==============================] - 6s 4us/step - loss: 0.3616 - acc: 0.8185 - val_loss: 0.3537 - val_acc: 0.8241\n",
      "Epoch 14/100\n",
      "1774250/1774250 [==============================] - 6s 4us/step - loss: 0.3604 - acc: 0.8197 - val_loss: 0.3490 - val_acc: 0.8292\n",
      "Epoch 15/100\n",
      "1774250/1774250 [==============================] - 7s 4us/step - loss: 0.3594 - acc: 0.8210 - val_loss: 0.3499 - val_acc: 0.8290\n",
      "Epoch 16/100\n",
      "1774250/1774250 [==============================] - 7s 4us/step - loss: 0.3584 - acc: 0.8220 - val_loss: 0.3461 - val_acc: 0.8309\n",
      "Epoch 17/100\n",
      "1774250/1774250 [==============================] - 6s 4us/step - loss: 0.3568 - acc: 0.8235 - val_loss: 0.3460 - val_acc: 0.8321\n",
      "Epoch 18/100\n",
      "1774250/1774250 [==============================] - 6s 4us/step - loss: 0.3550 - acc: 0.8253 - val_loss: 0.3478 - val_acc: 0.8301\n",
      "Epoch 19/100\n",
      "1774250/1774250 [==============================] - 6s 4us/step - loss: 0.3542 - acc: 0.8261 - val_loss: 0.3419 - val_acc: 0.8334\n",
      "Epoch 20/100\n",
      "1774250/1774250 [==============================] - 6s 4us/step - loss: 0.3524 - acc: 0.8276 - val_loss: 0.3442 - val_acc: 0.8300\n",
      "Epoch 21/100\n",
      "1774250/1774250 [==============================] - 7s 4us/step - loss: 0.3516 - acc: 0.8283 - val_loss: 0.3359 - val_acc: 0.8381\n",
      "Epoch 22/100\n",
      "1774250/1774250 [==============================] - 7s 4us/step - loss: 0.3509 - acc: 0.8289 - val_loss: 0.3381 - val_acc: 0.8376\n",
      "Epoch 23/100\n",
      "1774250/1774250 [==============================] - 7s 4us/step - loss: 0.3500 - acc: 0.8295 - val_loss: 0.3377 - val_acc: 0.8406\n",
      "Epoch 24/100\n",
      "1774250/1774250 [==============================] - 7s 4us/step - loss: 0.3487 - acc: 0.8304 - val_loss: 0.3308 - val_acc: 0.8419\n",
      "Epoch 25/100\n",
      "1774250/1774250 [==============================] - 7s 4us/step - loss: 0.3483 - acc: 0.8308 - val_loss: 0.3373 - val_acc: 0.8383\n",
      "Epoch 26/100\n",
      "1774250/1774250 [==============================] - 7s 4us/step - loss: 0.3477 - acc: 0.8313 - val_loss: 0.3295 - val_acc: 0.8456\n",
      "Epoch 27/100\n",
      "1774250/1774250 [==============================] - 7s 4us/step - loss: 0.3469 - acc: 0.8319 - val_loss: 0.3369 - val_acc: 0.8378\n",
      "Epoch 28/100\n",
      "1774250/1774250 [==============================] - 7s 4us/step - loss: 0.3462 - acc: 0.8323 - val_loss: 0.3407 - val_acc: 0.8336\n",
      "Epoch 29/100\n",
      "1774250/1774250 [==============================] - 7s 4us/step - loss: 0.3453 - acc: 0.8330 - val_loss: 0.3285 - val_acc: 0.8439\n",
      "Epoch 30/100\n",
      "1774250/1774250 [==============================] - 7s 4us/step - loss: 0.3447 - acc: 0.8334 - val_loss: 0.3374 - val_acc: 0.8341\n",
      "Epoch 31/100\n",
      "1774250/1774250 [==============================] - 7s 4us/step - loss: 0.3444 - acc: 0.8338 - val_loss: 0.3292 - val_acc: 0.8440\n",
      "Epoch 32/100\n",
      "1774250/1774250 [==============================] - 7s 4us/step - loss: 0.3441 - acc: 0.8337 - val_loss: 0.3291 - val_acc: 0.8436\n",
      "Epoch 33/100\n",
      "1774250/1774250 [==============================] - 7s 4us/step - loss: 0.3434 - acc: 0.8342 - val_loss: 0.3288 - val_acc: 0.8437\n",
      "Epoch 34/100\n",
      "1774250/1774250 [==============================] - 7s 4us/step - loss: 0.3426 - acc: 0.8349 - val_loss: 0.3251 - val_acc: 0.8477\n",
      "Epoch 35/100\n",
      "1774250/1774250 [==============================] - 6s 4us/step - loss: 0.3422 - acc: 0.8351 - val_loss: 0.3242 - val_acc: 0.8478\n",
      "Epoch 36/100\n",
      "1774250/1774250 [==============================] - 6s 4us/step - loss: 0.3417 - acc: 0.8355 - val_loss: 0.3264 - val_acc: 0.8442\n",
      "Epoch 37/100\n",
      "1774250/1774250 [==============================] - 6s 4us/step - loss: 0.3404 - acc: 0.8365 - val_loss: 0.3272 - val_acc: 0.8452\n",
      "Epoch 38/100\n",
      "1774250/1774250 [==============================] - 6s 4us/step - loss: 0.3405 - acc: 0.8364 - val_loss: 0.3270 - val_acc: 0.8449\n",
      "Epoch 39/100\n",
      "1774250/1774250 [==============================] - 7s 4us/step - loss: 0.3403 - acc: 0.8366 - val_loss: 0.3249 - val_acc: 0.8473\n",
      "Epoch 40/100\n",
      "1774250/1774250 [==============================] - 6s 4us/step - loss: 0.3394 - acc: 0.8372 - val_loss: 0.3232 - val_acc: 0.8505\n",
      "Epoch 41/100\n",
      "1774250/1774250 [==============================] - 7s 4us/step - loss: 0.3388 - acc: 0.8377 - val_loss: 0.3236 - val_acc: 0.8466\n",
      "Epoch 42/100\n",
      "1774250/1774250 [==============================] - 6s 4us/step - loss: 0.3388 - acc: 0.8376 - val_loss: 0.3405 - val_acc: 0.8343\n",
      "Epoch 43/100\n",
      "1774250/1774250 [==============================] - 6s 4us/step - loss: 0.3383 - acc: 0.8380 - val_loss: 0.3212 - val_acc: 0.8510\n",
      "Epoch 44/100\n",
      "1774250/1774250 [==============================] - 6s 4us/step - loss: 0.3378 - acc: 0.8383 - val_loss: 0.3250 - val_acc: 0.8457\n",
      "Epoch 45/100\n",
      "1774250/1774250 [==============================] - 6s 4us/step - loss: 0.3375 - acc: 0.8386 - val_loss: 0.3198 - val_acc: 0.8492\n",
      "Epoch 46/100\n",
      "1774250/1774250 [==============================] - 6s 4us/step - loss: 0.3374 - acc: 0.8387 - val_loss: 0.3266 - val_acc: 0.8457\n",
      "Epoch 47/100\n",
      "1774250/1774250 [==============================] - 6s 4us/step - loss: 0.3366 - acc: 0.8390 - val_loss: 0.3218 - val_acc: 0.8484\n",
      "Epoch 48/100\n",
      "1774250/1774250 [==============================] - 6s 4us/step - loss: 0.3364 - acc: 0.8394 - val_loss: 0.3193 - val_acc: 0.8517\n",
      "Epoch 49/100\n",
      "1774250/1774250 [==============================] - 6s 4us/step - loss: 0.3360 - acc: 0.8395 - val_loss: 0.3190 - val_acc: 0.8520\n",
      "Epoch 50/100\n",
      "1774250/1774250 [==============================] - 7s 4us/step - loss: 0.3355 - acc: 0.8400 - val_loss: 0.3185 - val_acc: 0.8504\n",
      "Epoch 51/100\n",
      "1774250/1774250 [==============================] - 7s 4us/step - loss: 0.3352 - acc: 0.8402 - val_loss: 0.3176 - val_acc: 0.8512\n",
      "Epoch 52/100\n",
      "1774250/1774250 [==============================] - 7s 4us/step - loss: 0.3351 - acc: 0.8403 - val_loss: 0.3222 - val_acc: 0.8475\n",
      "Epoch 53/100\n",
      "1774250/1774250 [==============================] - 7s 4us/step - loss: 0.3344 - acc: 0.8407 - val_loss: 0.3280 - val_acc: 0.8449\n",
      "Epoch 54/100\n",
      "1774250/1774250 [==============================] - 6s 4us/step - loss: 0.3344 - acc: 0.8407 - val_loss: 0.3168 - val_acc: 0.8499\n",
      "Epoch 55/100\n",
      "1774250/1774250 [==============================] - 6s 4us/step - loss: 0.3341 - acc: 0.8409 - val_loss: 0.3229 - val_acc: 0.8490\n",
      "Epoch 56/100\n",
      "1774250/1774250 [==============================] - 6s 4us/step - loss: 0.3335 - acc: 0.8413 - val_loss: 0.3156 - val_acc: 0.8541\n",
      "Epoch 57/100\n",
      "1774250/1774250 [==============================] - 6s 4us/step - loss: 0.3334 - acc: 0.8413 - val_loss: 0.3166 - val_acc: 0.8523\n",
      "Epoch 58/100\n",
      "1774250/1774250 [==============================] - 6s 4us/step - loss: 0.3333 - acc: 0.8412 - val_loss: 0.3224 - val_acc: 0.8485\n",
      "Epoch 59/100\n",
      "1774250/1774250 [==============================] - 6s 4us/step - loss: 0.3330 - acc: 0.8415 - val_loss: 0.3185 - val_acc: 0.8489\n",
      "Epoch 60/100\n",
      "1774250/1774250 [==============================] - 6s 4us/step - loss: 0.3329 - acc: 0.8417 - val_loss: 0.3192 - val_acc: 0.8492\n",
      "Epoch 61/100\n",
      "1774250/1774250 [==============================] - 6s 4us/step - loss: 0.3328 - acc: 0.8417 - val_loss: 0.3136 - val_acc: 0.8550\n",
      "Epoch 62/100\n",
      "1774250/1774250 [==============================] - 6s 4us/step - loss: 0.3324 - acc: 0.8420 - val_loss: 0.3162 - val_acc: 0.8533\n",
      "Epoch 63/100\n",
      "1774250/1774250 [==============================] - 6s 4us/step - loss: 0.3320 - acc: 0.8420 - val_loss: 0.3120 - val_acc: 0.8548\n",
      "Epoch 64/100\n",
      "1774250/1774250 [==============================] - 6s 4us/step - loss: 0.3315 - acc: 0.8426 - val_loss: 0.3150 - val_acc: 0.8522\n",
      "Epoch 65/100\n",
      "1774250/1774250 [==============================] - 6s 4us/step - loss: 0.3314 - acc: 0.8426 - val_loss: 0.3161 - val_acc: 0.8520\n",
      "Epoch 66/100\n",
      "1774250/1774250 [==============================] - 7s 4us/step - loss: 0.3311 - acc: 0.8428 - val_loss: 0.3238 - val_acc: 0.8452\n",
      "Epoch 67/100\n",
      "1774250/1774250 [==============================] - 7s 4us/step - loss: 0.3309 - acc: 0.8430 - val_loss: 0.3133 - val_acc: 0.8550\n",
      "Epoch 68/100\n",
      "1774250/1774250 [==============================] - 7s 4us/step - loss: 0.3311 - acc: 0.8429 - val_loss: 0.3128 - val_acc: 0.8548\n",
      "Epoch 69/100\n",
      "1774250/1774250 [==============================] - 7s 4us/step - loss: 0.3307 - acc: 0.8432 - val_loss: 0.3193 - val_acc: 0.8499\n",
      "Epoch 70/100\n",
      "1774250/1774250 [==============================] - 7s 4us/step - loss: 0.3304 - acc: 0.8432 - val_loss: 0.3127 - val_acc: 0.8561\n",
      "Epoch 71/100\n",
      "1774250/1774250 [==============================] - 7s 4us/step - loss: 0.3305 - acc: 0.8433 - val_loss: 0.3133 - val_acc: 0.8541\n",
      "Epoch 72/100\n",
      "1774250/1774250 [==============================] - 7s 4us/step - loss: 0.3301 - acc: 0.8435 - val_loss: 0.3124 - val_acc: 0.8555\n",
      "Epoch 73/100\n",
      "1774250/1774250 [==============================] - 7s 4us/step - loss: 0.3298 - acc: 0.8437 - val_loss: 0.3150 - val_acc: 0.8540\n",
      "Epoch 74/100\n",
      "1774250/1774250 [==============================] - 7s 4us/step - loss: 0.3295 - acc: 0.8439 - val_loss: 0.3125 - val_acc: 0.8546\n",
      "Epoch 75/100\n",
      "1774250/1774250 [==============================] - 7s 4us/step - loss: 0.3290 - acc: 0.8444 - val_loss: 0.3146 - val_acc: 0.8534\n",
      "Epoch 76/100\n",
      "1774250/1774250 [==============================] - 7s 4us/step - loss: 0.3293 - acc: 0.8441 - val_loss: 0.3126 - val_acc: 0.8566\n",
      "Epoch 77/100\n",
      "1774250/1774250 [==============================] - 6s 4us/step - loss: 0.3287 - acc: 0.8445 - val_loss: 0.3125 - val_acc: 0.8549\n",
      "Epoch 78/100\n",
      "1774250/1774250 [==============================] - 6s 4us/step - loss: 0.3290 - acc: 0.8443 - val_loss: 0.3099 - val_acc: 0.8570\n",
      "Epoch 79/100\n",
      "1774250/1774250 [==============================] - 6s 4us/step - loss: 0.3283 - acc: 0.8448 - val_loss: 0.3221 - val_acc: 0.8460\n",
      "Epoch 80/100\n",
      "1774250/1774250 [==============================] - 6s 4us/step - loss: 0.3285 - acc: 0.8445 - val_loss: 0.3179 - val_acc: 0.8513\n",
      "Epoch 81/100\n",
      "1774250/1774250 [==============================] - 6s 4us/step - loss: 0.3281 - acc: 0.8449 - val_loss: 0.3138 - val_acc: 0.8534\n",
      "Epoch 82/100\n",
      "1774250/1774250 [==============================] - 6s 4us/step - loss: 0.3278 - acc: 0.8451 - val_loss: 0.3143 - val_acc: 0.8550\n",
      "Epoch 83/100\n",
      "1774250/1774250 [==============================] - 6s 4us/step - loss: 0.3279 - acc: 0.8451 - val_loss: 0.3179 - val_acc: 0.8523\n",
      "Epoch 84/100\n",
      "1774250/1774250 [==============================] - 6s 4us/step - loss: 0.3275 - acc: 0.8452 - val_loss: 0.3097 - val_acc: 0.8579\n",
      "Epoch 85/100\n",
      "1774250/1774250 [==============================] - 6s 4us/step - loss: 0.3275 - acc: 0.8452 - val_loss: 0.3161 - val_acc: 0.8516\n",
      "Epoch 86/100\n",
      "1774250/1774250 [==============================] - 6s 4us/step - loss: 0.3272 - acc: 0.8455 - val_loss: 0.3100 - val_acc: 0.8558\n",
      "Epoch 87/100\n",
      "1774250/1774250 [==============================] - 6s 4us/step - loss: 0.3270 - acc: 0.8456 - val_loss: 0.3097 - val_acc: 0.8575\n",
      "Epoch 88/100\n",
      "1774250/1774250 [==============================] - 6s 4us/step - loss: 0.3268 - acc: 0.8457 - val_loss: 0.3122 - val_acc: 0.8554\n",
      "Epoch 89/100\n",
      "1774250/1774250 [==============================] - 6s 4us/step - loss: 0.3268 - acc: 0.8456 - val_loss: 0.3134 - val_acc: 0.8532\n",
      "Epoch 90/100\n",
      "1774250/1774250 [==============================] - 6s 4us/step - loss: 0.3268 - acc: 0.8456 - val_loss: 0.3117 - val_acc: 0.8560\n",
      "Epoch 91/100\n",
      "1774250/1774250 [==============================] - 6s 4us/step - loss: 0.3265 - acc: 0.8459 - val_loss: 0.3138 - val_acc: 0.8552\n",
      "Epoch 92/100\n",
      "1774250/1774250 [==============================] - 6s 4us/step - loss: 0.3261 - acc: 0.8463 - val_loss: 0.3153 - val_acc: 0.8536\n",
      "Epoch 93/100\n",
      "1774250/1774250 [==============================] - 6s 4us/step - loss: 0.3260 - acc: 0.8463 - val_loss: 0.3138 - val_acc: 0.8538\n",
      "Epoch 94/100\n",
      "1774250/1774250 [==============================] - 6s 4us/step - loss: 0.3261 - acc: 0.8462 - val_loss: 0.3099 - val_acc: 0.8570\n",
      "Epoch 95/100\n",
      "1774250/1774250 [==============================] - 6s 4us/step - loss: 0.3259 - acc: 0.8464 - val_loss: 0.3137 - val_acc: 0.8550\n",
      "Epoch 96/100\n",
      "1774250/1774250 [==============================] - 6s 4us/step - loss: 0.3255 - acc: 0.8465 - val_loss: 0.3155 - val_acc: 0.8537\n",
      "Epoch 97/100\n",
      "1774250/1774250 [==============================] - 6s 4us/step - loss: 0.3253 - acc: 0.8466 - val_loss: 0.3084 - val_acc: 0.8574\n",
      "Epoch 98/100\n",
      "1774250/1774250 [==============================] - 7s 4us/step - loss: 0.3250 - acc: 0.8469 - val_loss: 0.3108 - val_acc: 0.8574\n",
      "Epoch 99/100\n",
      "1774250/1774250 [==============================] - 7s 4us/step - loss: 0.3247 - acc: 0.8470 - val_loss: 0.3085 - val_acc: 0.8567\n",
      "Epoch 100/100\n",
      "1774250/1774250 [==============================] - 7s 4us/step - loss: 0.3253 - acc: 0.8468 - val_loss: 0.3074 - val_acc: 0.8580\n"
     ]
    },
    {
     "data": {
      "text/plain": [
       "<keras.callbacks.History at 0x7f4d87eec828>"
      ]
     },
     "execution_count": 10,
     "metadata": {},
     "output_type": "execute_result"
    }
   ],
   "source": [
    "# should pass sample_weight parameter to this later!\n",
    "model.fit(x_train,y_train,batch_size=1000,epochs=100,validation_split=.25)\n",
    "\n"
   ]
  },
  {
   "cell_type": "code",
   "execution_count": 11,
   "metadata": {},
   "outputs": [],
   "source": [
    "model.save(\"trainedMultiClassHMuMu.h5\")"
   ]
  },
  {
   "cell_type": "code",
   "execution_count": null,
   "metadata": {},
   "outputs": [],
   "source": []
  }
 ],
 "metadata": {
  "kernelspec": {
   "display_name": "Python 3 GPU",
   "language": "python",
   "name": "python3-gpu"
  },
  "language_info": {
   "codemirror_mode": {
    "name": "ipython",
    "version": 3
   },
   "file_extension": ".py",
   "mimetype": "text/x-python",
   "name": "python",
   "nbconvert_exporter": "python",
   "pygments_lexer": "ipython3",
   "version": "3.6.6"
  }
 },
 "nbformat": 4,
 "nbformat_minor": 2
}
