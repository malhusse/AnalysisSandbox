{
 "cells": [
  {
   "cell_type": "code",
   "execution_count": 1,
   "metadata": {
    "scrolled": true
   },
   "outputs": [],
   "source": [
    "import sys,os,glob"
   ]
  },
  {
   "cell_type": "code",
   "execution_count": 2,
   "metadata": {
    "scrolled": true
   },
   "outputs": [
    {
     "name": "stdout",
     "output_type": "stream",
     "text": [
      "Welcome to JupyROOT 6.20/02\n"
     ]
    }
   ],
   "source": [
    "import ROOT as R\n",
    "from array import array\n",
    "import uproot"
   ]
  },
  {
   "cell_type": "code",
   "execution_count": 3,
   "metadata": {
    "scrolled": true
   },
   "outputs": [],
   "source": [
    "R.TMVA.PyMethodBase.PyInitialize()  "
   ]
  },
  {
   "cell_type": "code",
   "execution_count": 4,
   "metadata": {
    "scrolled": true
   },
   "outputs": [
    {
     "name": "stdout",
     "output_type": "stream",
     "text": [
      "create data set info Default\n",
      "create data set info Default\n"
     ]
    }
   ],
   "source": [
    "reader_dnn = R.TMVA.Reader()\n",
    "reader_bdt = R.TMVA.Reader()"
   ]
  },
  {
   "cell_type": "code",
   "execution_count": 5,
   "metadata": {
    "scrolled": true
   },
   "outputs": [],
   "source": [
    "var1 = array('f',[0]); reader_dnn.AddVariable(\"h_pt\",var1)\n",
    "var2 = array('f',[0]); reader_dnn.AddVariable(\"h_eta\",var2)\n",
    "var3 = array('f',[0]); reader_dnn.AddVariable(\"h_deta\",var3)\n",
    "var4 = array('f',[0]); reader_dnn.AddVariable(\"h_dphi\",var4)\n",
    "var5 = array('f',[0]); reader_dnn.AddVariable(\"jeteta_1\",var5)\n",
    "var6 = array('f',[0]); reader_dnn.AddVariable(\"jeteta_2\",var6)\n",
    "var7 = array('f',[0]); reader_dnn.AddVariable(\"ncentJets\",var7)\n",
    "var8 = array('f',[0]); reader_dnn.AddVariable(\"njets\",var8)\n",
    "var9 = array('f',[0]); reader_dnn.AddVariable(\"mjj_1\",var9)\n",
    "var10 = array('f',[0]); reader_dnn.AddVariable(\"mjj_2\",var10)\n",
    "var11 = array('f',[0]); reader_dnn.AddVariable(\"detajj_1\",var11)\n",
    "var12 = array('f',[0]); reader_dnn.AddVariable(\"detajj_2\",var12)\n",
    "var13 = array('f',[0]); reader_dnn.AddVariable(\"nbtagJets\",var13)\n",
    "var14 = array('f',[0]); reader_dnn.AddVariable(\"metpt\",var14)\n",
    "var15 = array('f',[0]); reader_dnn.AddSpectator(\"h_mass\",var15)\n",
    "reader_bdt.AddVariable(\"h_pt\",var1)\n",
    "reader_bdt.AddVariable(\"h_eta\",var2)\n",
    "reader_bdt.AddVariable(\"h_deta\",var3)\n",
    "reader_bdt.AddVariable(\"h_dphi\",var4)\n",
    "reader_bdt.AddVariable(\"jeteta_1\",var5)\n",
    "reader_bdt.AddVariable(\"jeteta_2\",var6)\n",
    "reader_bdt.AddVariable(\"ncentJets\",var7)\n",
    "reader_bdt.AddVariable(\"njets\",var8)\n",
    "reader_bdt.AddVariable(\"mjj_1\",var9)\n",
    "reader_bdt.AddVariable(\"mjj_2\",var10)\n",
    "reader_bdt.AddVariable(\"detajj_1\",var11)\n",
    "reader_bdt.AddVariable(\"detajj_2\",var12)\n",
    "reader_bdt.AddVariable(\"nbtagJets\",var13)\n",
    "reader_bdt.AddVariable(\"metpt\",var14)\n",
    "reader_bdt.AddSpectator(\"h_mass\",var15)"
   ]
  },
  {
   "cell_type": "code",
   "execution_count": 6,
   "metadata": {
    "scrolled": true
   },
   "outputs": [],
   "source": [
    "# var16 = array('f',[0]); reader.AddSpectator(\"h_mass\",var16)"
   ]
  },
  {
   "cell_type": "code",
   "execution_count": 7,
   "metadata": {
    "scrolled": true
   },
   "outputs": [
    {
     "name": "stderr",
     "output_type": "stream",
     "text": [
      "Using TensorFlow backend.\n"
     ]
    },
    {
     "data": {
      "text/plain": [
       "<ROOT.TMVA::MethodPyKeras object (\"DNN\") at 0x7ffe68053000>"
      ]
     },
     "execution_count": 7,
     "metadata": {},
     "output_type": "execute_result"
    },
    {
     "name": "stdout",
     "output_type": "stream",
     "text": [
      "                         : Booking \"DNN\" of type \"PyKeras\" from dataset_f/weights/factory_DNN.weights.xml.\n",
      "                         : Reading weight file: dataset_f/weights/factory_DNN.weights.xml\n",
      "<WARNING> <WARNING>                : Value for option tensorboard was previously set to \n",
      "<HEADER> DataSetInfo              : [Default] : Added class \"Signal\"\n",
      "<HEADER> DataSetInfo              : [Default] : Added class \"Background\"\n",
      "                         : Booked classifier \"DNN\" of type: \"PyKeras\"\n"
     ]
    }
   ],
   "source": [
    "reader_dnn.BookMVA(\"DNN\",\"dataset_f/weights/factory_DNN.weights.xml\")\n",
    "\n"
   ]
  },
  {
   "cell_type": "code",
   "execution_count": 8,
   "metadata": {},
   "outputs": [
    {
     "data": {
      "text/plain": [
       "<ROOT.TMVA::MethodBDT object (\"BDT\") at 0x7ffe721c2200>"
      ]
     },
     "execution_count": 8,
     "metadata": {},
     "output_type": "execute_result"
    },
    {
     "name": "stdout",
     "output_type": "stream",
     "text": [
      "                         : Booking \"BDT\" of type \"BDT\" from dataset_f/weights/factory_BDT.weights.xml.\n",
      "                         : Reading weight file: dataset_f/weights/factory_BDT.weights.xml\n",
      "<HEADER> DataSetInfo              : [Default] : Added class \"Signal\"\n",
      "<HEADER> DataSetInfo              : [Default] : Added class \"Background\"\n",
      "                         : Booked classifier \"BDT\" of type: \"BDT\"\n"
     ]
    }
   ],
   "source": [
    "reader_bdt.BookMVA(\"BDT\",\"dataset_f/weights/factory_BDT.weights.xml\")"
   ]
  },
  {
   "cell_type": "code",
   "execution_count": 9,
   "metadata": {
    "scrolled": true
   },
   "outputs": [
    {
     "name": "stderr",
     "output_type": "stream",
     "text": [
      "Error in <TFile::TFile>: file TMVA_Output.root does not exist\n"
     ]
    }
   ],
   "source": [
    "file = R.TFile(\"TMVA_Output.root\")"
   ]
  },
  {
   "cell_type": "code",
   "execution_count": 3,
   "metadata": {},
   "outputs": [],
   "source": [
    "t = file.Get(\"dataset_f/TestTree\")"
   ]
  },
  {
   "cell_type": "code",
   "execution_count": null,
   "metadata": {},
   "outputs": [],
   "source": [
    "t.GetEntries()"
   ]
  },
  {
   "cell_type": "code",
   "execution_count": 4,
   "metadata": {},
   "outputs": [],
   "source": [
    "dnn_scores = R.std.vector('Float_t')()\n",
    "bdt_scores = R.std.vector('Float_t')()\n",
    "classes = R.std.vector('Bool_t')()\n",
    "weight = R.std.vector('Float_t')()"
   ]
  },
  {
   "cell_type": "code",
   "execution_count": 5,
   "metadata": {},
   "outputs": [],
   "source": [
    "# k = 0\n",
    "for e in t:\n",
    "#     if k == 2:\n",
    "#         break\n",
    "#     k+=1\n",
    "#     print(e.DNN)\n",
    "#     print(e.classID)\n",
    "#     print(e.weight)\n",
    "    dnn_scores.push_back(e.DNN)\n",
    "    bdt_scores.push_back(e.BDT)\n",
    "    classes.push_back(1-e.classID)\n",
    "    weight.push_back(e.weight)\n",
    "    "
   ]
  },
  {
   "cell_type": "code",
   "execution_count": 6,
   "metadata": {},
   "outputs": [],
   "source": [
    "bdt_rc = R.TMVA.ROCCurve(bdt_scores,classes,weight)\n",
    "dnn_rc = R.TMVA.ROCCurve(dnn_scores,classes,weight)"
   ]
  },
  {
   "cell_type": "code",
   "execution_count": 7,
   "metadata": {},
   "outputs": [],
   "source": [
    "dnn_roc = dnn_rc.GetROCCurve()\n",
    "bdt_roc = bdt_rc.GetROCCurve()\n"
   ]
  },
  {
   "cell_type": "code",
   "execution_count": 8,
   "metadata": {},
   "outputs": [
    {
     "name": "stderr",
     "output_type": "stream",
     "text": [
      "Info in <TCanvas::Print>: png file roc_115_135.png has been created\n"
     ]
    },
    {
     "data": {
      "image/png": "[encoded data removed]",
      "text/plain": [
       "<IPython.core.display.Image object>"
      ]
     },
     "metadata": {},
     "output_type": "display_data"
    }
   ],
   "source": [
    "c6 = R.TCanvas(\"c6\",\"c6\")\n",
    "c6.SetGrid()\n",
    "leg = R.TLegend(0.2, 0.2, .4, .4)\n",
    "\n",
    "bdt_roc.SetTitle(\"\")\n",
    "bdt_roc.SetLineColor(R.kBlack)\n",
    "leg.AddEntry(bdt_roc,\"BDT\")\n",
    "bdt_roc.Draw()\n",
    "\n",
    "dnn_roc.SetTitle(\"\")\n",
    "dnn_roc.SetLineColor(R.kRed)\n",
    "leg.AddEntry(dnn_roc,\"DNN\")\n",
    "dnn_roc.Draw(\"same\")\n",
    "leg.Draw()\n",
    "\n",
    "c6.Draw()\n",
    "c6.SaveAs(\"roc_115_135.png\")"
   ]
  },
  {
   "cell_type": "code",
   "execution_count": null,
   "metadata": {
    "scrolled": true
   },
   "outputs": [],
   "source": [
    "# ran this and saved..\n",
    "events = []\n",
    "\n",
    "i = 0\n",
    "for e in t:\n",
    "    if i== 2:\n",
    "        break\n",
    "    i += 1\n",
    "    var1[0]=e.h_pt\n",
    "    var2[0]=e.h_eta\n",
    "#     var3[0]=e.h_phi\n",
    "    var3[0]=e.h_deta\n",
    "    var4[0]=e.h_dphi\n",
    "    var5[0]=e.jeteta_1\n",
    "    var6[0]=e.jeteta_2\n",
    "    var7[0]=e.ncentJets\n",
    "    var8[0]=e.njets\n",
    "    var9[0]=e.mjj_1\n",
    "    var10[0]=e.mjj_2\n",
    "    var11[0]=e.detajj_1\n",
    "    var12[0]=e.detajj_2\n",
    "    var13[0]=e.nbtagJets\n",
    "    var14[0]=e.metpt\n",
    "    label = e.classID\n",
    "    dnn_score = reader_dnn.EvaluateMVA(\"DNN\")\n",
    "#     bdt_score = reader_bdt.EvaluateMVA(\"BDT\")\n",
    "    w = e.weight\n",
    "    \n",
    "#     events.append([dnn_score,bdt_score,label,w])\n",
    "    print(dnn_score)\n",
    "    print(label)\n",
    "    print(w)"
   ]
  },
  {
   "cell_type": "code",
   "execution_count": null,
   "metadata": {},
   "outputs": [],
   "source": [
    "import pickle\n",
    "\n",
    "with open('event_mva_dump', 'wb') as fp:\n",
    "    pickle.dump(events, fp)"
   ]
  }
 ],
 "metadata": {
  "kernelspec": {
   "display_name": "Python 3",
   "language": "python",
   "name": "python3"
  },
  "language_info": {
   "codemirror_mode": {
    "name": "ipython",
    "version": 3
   },
   "file_extension": ".py",
   "mimetype": "text/x-python",
   "name": "python",
   "nbconvert_exporter": "python",
   "pygments_lexer": "ipython3",
   "version": "3.7.7"
  }
 },
 "nbformat": 4,
 "nbformat_minor": 2
}
