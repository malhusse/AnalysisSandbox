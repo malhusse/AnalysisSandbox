{
 "cells": [
  {
   "cell_type": "code",
   "execution_count": null,
   "metadata": {
    "scrolled": true
   },
   "outputs": [],
   "source": [
    "import sys,os,glob"
   ]
  },
  {
   "cell_type": "code",
   "execution_count": 2,
   "metadata": {
    "scrolled": true
   },
   "outputs": [
    {
     "name": "stdout",
     "output_type": "stream",
     "text": [
      "Welcome to JupyROOT 6.16/00\n"
     ]
    }
   ],
   "source": [
    "import ROOT as R\n",
    "from array import array\n",
    "import uproot"
   ]
  },
  {
   "cell_type": "code",
   "execution_count": 3,
   "metadata": {
    "scrolled": true
   },
   "outputs": [],
   "source": [
    "R.TMVA.PyMethodBase.PyInitialize()  "
   ]
  },
  {
   "cell_type": "code",
   "execution_count": 4,
   "metadata": {
    "scrolled": true
   },
   "outputs": [],
   "source": [
    "reader_dnn = R.TMVA.Reader()\n",
    "reader_bdt = R.TMVA.Reader()"
   ]
  },
  {
   "cell_type": "code",
   "execution_count": 5,
   "metadata": {
    "scrolled": true
   },
   "outputs": [],
   "source": [
    "var1 = array('f',[0]); reader_dnn.AddVariable(\"h_pt\",var1)\n",
    "var2 = array('f',[0]); reader_dnn.AddVariable(\"h_eta\",var2)\n",
    "var3 = array('f',[0]); reader_dnn.AddVariable(\"h_deta\",var3)\n",
    "var4 = array('f',[0]); reader_dnn.AddVariable(\"h_dphi\",var4)\n",
    "var5 = array('f',[0]); reader_dnn.AddVariable(\"jeteta_1\",var5)\n",
    "var6 = array('f',[0]); reader_dnn.AddVariable(\"jeteta_2\",var6)\n",
    "var7 = array('f',[0]); reader_dnn.AddVariable(\"ncentJets\",var7)\n",
    "var8 = array('f',[0]); reader_dnn.AddVariable(\"njets\",var8)\n",
    "var9 = array('f',[0]); reader_dnn.AddVariable(\"mjj_1\",var9)\n",
    "var10 = array('f',[0]); reader_dnn.AddVariable(\"mjj_2\",var10)\n",
    "var11 = array('f',[0]); reader_dnn.AddVariable(\"detajj_1\",var11)\n",
    "var12 = array('f',[0]); reader_dnn.AddVariable(\"detajj_2\",var12)\n",
    "var13 = array('f',[0]); reader_dnn.AddVariable(\"nbtagJets\",var13)\n",
    "var14 = array('f',[0]); reader_dnn.AddVariable(\"metpt\",var14)\n",
    "\n",
    "reader_bdt.AddVariable(\"h_pt\",var1)\n",
    "reader_bdt.AddVariable(\"h_eta\",var2)\n",
    "reader_bdt.AddVariable(\"h_deta\",var3)\n",
    "reader_bdt.AddVariable(\"h_dphi\",var4)\n",
    "reader_bdt.AddVariable(\"jeteta_1\",var5)\n",
    "reader_bdt.AddVariable(\"jeteta_2\",var6)\n",
    "reader_bdt.AddVariable(\"ncentJets\",var7)\n",
    "reader_bdt.AddVariable(\"njets\",var8)\n",
    "reader_bdt.AddVariable(\"mjj_1\",var9)\n",
    "reader_bdt.AddVariable(\"mjj_2\",var10)\n",
    "reader_bdt.AddVariable(\"detajj_1\",var11)\n",
    "reader_bdt.AddVariable(\"detajj_2\",var12)\n",
    "reader_bdt.AddVariable(\"nbtagJets\",var13)\n",
    "reader_bdt.AddVariable(\"metpt\",var14)"
   ]
  },
  {
   "cell_type": "code",
   "execution_count": 6,
   "metadata": {
    "scrolled": true
   },
   "outputs": [],
   "source": [
    "# var16 = array('f',[0]); reader.AddSpectator(\"h_mass\",var16)"
   ]
  },
  {
   "cell_type": "code",
   "execution_count": 7,
   "metadata": {
    "scrolled": true
   },
   "outputs": [
    {
     "name": "stderr",
     "output_type": "stream",
     "text": [
      "Using TensorFlow backend.\n"
     ]
    },
    {
     "data": {
      "text/plain": [
       "<ROOT.TMVA::MethodPyKeras object (\"DNN\") at 0x5614be9cb850>"
      ]
     },
     "execution_count": 7,
     "metadata": {},
     "output_type": "execute_result"
    },
    {
     "name": "stdout",
     "output_type": "stream",
     "text": [
      "                         : Booking \"DNN\" of type \"PyKeras\" from dataset_f/weights/factory_DNN.weights.xml.\n",
      "                         : Reading weight file: dataset_f/weights/factory_DNN.weights.xml\n",
      "<WARNING> <WARNING>                : Value for option tensorboard was previously set to \n",
      "<HEADER> DataSetInfo              : [Default] : Added class \"Signal\"\n",
      "<HEADER> DataSetInfo              : [Default] : Added class \"Background\"\n",
      "                         : Booked classifier \"DNN\" of type: \"PyKeras\"\n"
     ]
    }
   ],
   "source": [
    "reader_dnn.BookMVA(\"DNN\",\"dataset_f/weights/factory_DNN.weights.xml\")\n",
    "\n"
   ]
  },
  {
   "cell_type": "code",
   "execution_count": 8,
   "metadata": {},
   "outputs": [
    {
     "data": {
      "text/plain": [
       "<ROOT.TMVA::MethodBDT object (\"BDT\") at 0x5614c1455a90>"
      ]
     },
     "execution_count": 8,
     "metadata": {},
     "output_type": "execute_result"
    },
    {
     "name": "stdout",
     "output_type": "stream",
     "text": [
      "                         : Booking \"BDT\" of type \"BDT\" from dataset_f/weights/factory_BDT.weights.xml.\n",
      "                         : Reading weight file: dataset_f/weights/factory_BDT.weights.xml\n",
      "<HEADER> DataSetInfo              : [Default] : Added class \"Signal\"\n",
      "<HEADER> DataSetInfo              : [Default] : Added class \"Background\"\n",
      "                         : Booked classifier \"BDT\" of type: \"BDT\"\n"
     ]
    }
   ],
   "source": [
    "reader_bdt.BookMVA(\"BDT\",\"dataset_f/weights/factory_BDT.weights.xml\")"
   ]
  },
  {
   "cell_type": "code",
   "execution_count": 9,
   "metadata": {
    "scrolled": true
   },
   "outputs": [],
   "source": [
    "files = glob.glob(\"/home/mo/Analysis/AnalysisTools/ntupleFiles/*.root\")                      \n",
    "t = R.TChain(\"ntupledData\")\n"
   ]
  },
  {
   "cell_type": "code",
   "execution_count": 10,
   "metadata": {
    "scrolled": true
   },
   "outputs": [],
   "source": [
    "for file in files:\n",
    "    t.Add(file)"
   ]
  },
  {
   "cell_type": "code",
   "execution_count": 11,
   "metadata": {
    "scrolled": false
   },
   "outputs": [],
   "source": [
    "eventCut = \"(h_mass > 100 && h_mass < 150) && Entry$%2==0 && (mclabel > 0 || mclabel ==-20)\""
   ]
  },
  {
   "cell_type": "code",
   "execution_count": 12,
   "metadata": {},
   "outputs": [],
   "source": [
    "t2 = t.CopyTree(eventCut)"
   ]
  },
  {
   "cell_type": "code",
   "execution_count": 13,
   "metadata": {
    "scrolled": true
   },
   "outputs": [
    {
     "name": "stdout",
     "output_type": "stream",
     "text": [
      "10000\n",
      "20000\n",
      "30000\n",
      "40000\n",
      "50000\n",
      "60000\n",
      "70000\n",
      "80000\n",
      "90000\n",
      "100000\n",
      "110000\n",
      "120000\n",
      "130000\n",
      "140000\n",
      "150000\n",
      "160000\n",
      "170000\n",
      "180000\n",
      "190000\n",
      "200000\n",
      "210000\n",
      "220000\n",
      "230000\n",
      "240000\n",
      "250000\n",
      "260000\n",
      "270000\n",
      "280000\n",
      "290000\n",
      "300000\n",
      "310000\n",
      "320000\n",
      "330000\n",
      "340000\n",
      "350000\n",
      "360000\n",
      "370000\n",
      "380000\n",
      "390000\n",
      "400000\n",
      "410000\n",
      "420000\n",
      "430000\n",
      "440000\n",
      "450000\n",
      "460000\n",
      "470000\n",
      "480000\n",
      "490000\n",
      "500000\n",
      "510000\n",
      "520000\n",
      "530000\n",
      "540000\n",
      "550000\n",
      "560000\n",
      "570000\n",
      "580000\n",
      "590000\n",
      "600000\n",
      "610000\n",
      "620000\n",
      "630000\n",
      "640000\n",
      "650000\n",
      "660000\n",
      "670000\n",
      "680000\n",
      "690000\n",
      "700000\n",
      "710000\n",
      "720000\n",
      "730000\n",
      "740000\n",
      "750000\n",
      "760000\n",
      "770000\n",
      "780000\n",
      "790000\n",
      "800000\n",
      "810000\n",
      "820000\n",
      "830000\n",
      "840000\n",
      "850000\n",
      "860000\n",
      "870000\n",
      "880000\n",
      "890000\n",
      "900000\n",
      "910000\n",
      "920000\n",
      "930000\n",
      "940000\n",
      "950000\n",
      "960000\n",
      "970000\n",
      "980000\n",
      "                         : Load model from file: trainedpyKerasModel_UI.h5\n"
     ]
    },
    {
     "name": "stderr",
     "output_type": "stream",
     "text": [
      "2019-04-08 14:33:31.090650: I tensorflow/core/platform/cpu_feature_guard.cc:141] Your CPU supports instructions that this TensorFlow binary was not compiled to use: AVX2 FMA\n",
      "2019-04-08 14:33:31.170080: I tensorflow/stream_executor/cuda/cuda_gpu_executor.cc:897] successful NUMA node read from SysFS had negative value (-1), but there must be at least one NUMA node, so returning NUMA node zero\n",
      "2019-04-08 14:33:31.170445: I tensorflow/core/common_runtime/gpu/gpu_device.cc:1405] Found device 0 with properties: \n",
      "name: GeForce GTX 1050 major: 6 minor: 1 memoryClockRate(GHz): 1.493\n",
      "pciBusID: 0000:01:00.0\n",
      "totalMemory: 3.95GiB freeMemory: 3.89GiB\n",
      "2019-04-08 14:33:31.170456: I tensorflow/core/common_runtime/gpu/gpu_device.cc:1484] Adding visible gpu devices: 0\n",
      "2019-04-08 14:33:31.480522: I tensorflow/core/common_runtime/gpu/gpu_device.cc:965] Device interconnect StreamExecutor with strength 1 edge matrix:\n",
      "2019-04-08 14:33:31.480544: I tensorflow/core/common_runtime/gpu/gpu_device.cc:971]      0 \n",
      "2019-04-08 14:33:31.480549: I tensorflow/core/common_runtime/gpu/gpu_device.cc:984] 0:   N \n",
      "2019-04-08 14:33:31.480734: I tensorflow/core/common_runtime/gpu/gpu_device.cc:1097] Created TensorFlow device (/job:localhost/replica:0/task:0/device:GPU:0 with 3623 MB memory) -> physical GPU (device: 0, name: GeForce GTX 1050, pci bus id: 0000:01:00.0, compute capability: 6.1)\n"
     ]
    }
   ],
   "source": [
    "# ran this and saved..\n",
    "events = []\n",
    "\n",
    "i = 1\n",
    "for e in t2:\n",
    "    if i % 10000 == 0:\n",
    "        print(i)\n",
    "    i += 1\n",
    "    var1[0]=e.h_pt\n",
    "    var2[0]=e.h_eta\n",
    "#     var3[0]=e.h_phi\n",
    "    var3[0]=e.h_deta\n",
    "    var4[0]=e.h_dphi\n",
    "    var5[0]=e.jeteta_1\n",
    "    var6[0]=e.jeteta_2\n",
    "    var7[0]=e.ncentJets\n",
    "    var8[0]=e.njets\n",
    "    var9[0]=e.mjj_1\n",
    "    var10[0]=e.mjj_2\n",
    "    var11[0]=e.detajj_1\n",
    "    var12[0]=e.detajj_2\n",
    "    var13[0]=e.nbtagJets\n",
    "    var14[0]=e.metpt\n",
    "    label = e.mclabel\n",
    "    dnn_score = reader_dnn.EvaluateMVA(\"DNN\")\n",
    "    bdt_score = reader_bdt.EvaluateMVA(\"BDT\")\n",
    "    w = e.eweight\n",
    "    \n",
    "    events.append([dnn_score,bdt_score,label,w,e.h_mass])"
   ]
  },
  {
   "cell_type": "code",
   "execution_count": 14,
   "metadata": {},
   "outputs": [],
   "source": [
    "import pickle\n",
    "\n",
    "with open('event_mva_dump_vbf', 'wb') as fp:\n",
    "    pickle.dump(events, fp)"
   ]
  },
  {
   "cell_type": "code",
   "execution_count": null,
   "metadata": {},
   "outputs": [],
   "source": []
  }
 ],
 "metadata": {
  "kernelspec": {
   "display_name": "Python 3 GPU",
   "language": "python",
   "name": "python3-gpu"
  },
  "language_info": {
   "codemirror_mode": {
    "name": "ipython",
    "version": 3
   },
   "file_extension": ".py",
   "mimetype": "text/x-python",
   "name": "python",
   "nbconvert_exporter": "python",
   "pygments_lexer": "ipython3",
   "version": "3.6.6"
  }
 },
 "nbformat": 4,
 "nbformat_minor": 2
}
