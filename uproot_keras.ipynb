{
 "cells": [
  {
   "cell_type": "code",
   "execution_count": 1,
   "metadata": {},
   "outputs": [],
   "source": [
    "import uproot\n",
    "import gc\n",
    "import pandas as pd\n",
    "from sklearn.utils import shuffle\n",
    "from sklearn import preprocessing\n",
    "from sklearn.model_selection import train_test_split\n",
    "from sklearn.externals import joblib"
   ]
  },
  {
   "cell_type": "code",
   "execution_count": 2,
   "metadata": {},
   "outputs": [],
   "source": [
    "features = [\"h_pt\",\"h_eta\",\"h_phi\",\"h_deta\",\"h_dphi\",\"mueta_1\",\n",
    "            \"mueta_2\",\"ncentJets\",\"njets\",\"mjj_1\",\"mjj_2\",\n",
    "            \"detajj_1\",\"detajj_2\",\"nbtagJets\",\"metpt\",\"h_mass\",\"mclabel\"]"
   ]
  },
  {
   "cell_type": "code",
   "execution_count": 16,
   "metadata": {},
   "outputs": [],
   "source": [
    "features = [\"h_mass\",\"h_eta\",\"mueta_1\",\"mueta_2\"]"
   ]
  },
  {
   "cell_type": "code",
   "execution_count": 17,
   "metadata": {},
   "outputs": [
    {
     "data": {
      "text/plain": [
       "6901"
      ]
     },
     "execution_count": 17,
     "metadata": {},
     "output_type": "execute_result"
    }
   ],
   "source": [
    "ggh = uproot.open(\"ntupleFiles/GluGluHToMuMu_M125_13TeV_amcatnloFXFX_pythia8.root\")[\"ntupledData\"]\n",
    "gghdf = ggh.pandas.df(features)\n",
    "gghdf = gghdf.loc[(gghdf['h_mass'] > 100) & (gghdf['h_mass'] < 150)]\n",
    "del ggh\n",
    "gc.collect()"
   ]
  },
  {
   "cell_type": "code",
   "execution_count": 18,
   "metadata": {},
   "outputs": [
    {
     "data": {
      "text/plain": [
       "1150"
      ]
     },
     "execution_count": 18,
     "metadata": {},
     "output_type": "execute_result"
    }
   ],
   "source": [
    "dy = uproot.open(\"ntupleFiles/DYJetsToLL_M-50_TuneCP5_13TeV-amcatnloFXFX-pythia8.root\")[\"ntupledData\"]\n",
    "dydf = dy.pandas.df(features)\n",
    "dydf = dydf.loc[(dydf['h_mass'] > 100) & (dydf['h_mass'] < 150)]\n",
    "del dy\n",
    "gc.collect()"
   ]
  },
  {
   "cell_type": "code",
   "execution_count": 19,
   "metadata": {},
   "outputs": [
    {
     "data": {
      "text/plain": [
       "694"
      ]
     },
     "execution_count": 19,
     "metadata": {},
     "output_type": "execute_result"
    }
   ],
   "source": [
    "tth = uproot.open(\"ntupleFiles/ttHToMuMu_M125_TuneCP5_13TeV-powheg-pythia8.root\")[\"ntupledData\"]\n",
    "tthdf = tth.pandas.df(features)\n",
    "tthdf = tthdf.loc[(tthdf['h_mass'] > 100) & (tthdf['h_mass'] < 150)]\n",
    "del tth\n",
    "gc.collect()"
   ]
  },
  {
   "cell_type": "code",
   "execution_count": 20,
   "metadata": {},
   "outputs": [
    {
     "data": {
      "text/plain": [
       "918"
      ]
     },
     "execution_count": 20,
     "metadata": {},
     "output_type": "execute_result"
    }
   ],
   "source": [
    "vbf = uproot.open(\"ntupleFiles/VBFHToMuMu_M125_13TeV_amcatnlo_pythia8.root\")[\"ntupledData\"]\n",
    "vbfdf = vbf.pandas.df(features)\n",
    "vbfdf = vbfdf.loc[(vbfdf['h_mass'] > 100) & (vbfdf['h_mass'] < 150)]\n",
    "del vbf\n",
    "gc.collect()"
   ]
  },
  {
   "cell_type": "code",
   "execution_count": 21,
   "metadata": {},
   "outputs": [],
   "source": [
    "frames = [gghdf, dydf, tthdf, vbfdf]\n",
    "fullFrame = pd.concat(frames, ignore_index=True)"
   ]
  },
  {
   "cell_type": "code",
   "execution_count": 22,
   "metadata": {},
   "outputs": [],
   "source": [
    "import matplotlib.pyplot as plt"
   ]
  },
  {
   "cell_type": "code",
   "execution_count": 29,
   "metadata": {},
   "outputs": [],
   "source": [
    "def plot_corr(df,size=10):\n",
    "    '''Function plots a graphical correlation matrix for each pair of columns in the dataframe.\n",
    "\n",
    "    Input:\n",
    "        df: pandas DataFrame\n",
    "        size: vertical and horizontal size of the plot'''\n",
    "\n",
    "    corr = df.corr()\n",
    "    fig, ax = plt.subplots(figsize=(size, size))\n",
    "    cax = ax.matshow(corr)\n",
    "    plt.xticks(range(len(corr.columns)), corr.columns);\n",
    "    plt.yticks(range(len(corr.columns)), corr.columns);\n",
    "    fig.colorbar(cax)\n",
    "    plt.savefig('test.png')"
   ]
  },
  {
   "cell_type": "code",
   "execution_count": 30,
   "metadata": {},
   "outputs": [
    {
     "data": {
      "text/html": [
       "<div>\n",
       "<style scoped>\n",
       "    .dataframe tbody tr th:only-of-type {\n",
       "        vertical-align: middle;\n",
       "    }\n",
       "\n",
       "    .dataframe tbody tr th {\n",
       "        vertical-align: top;\n",
       "    }\n",
       "\n",
       "    .dataframe thead th {\n",
       "        text-align: right;\n",
       "    }\n",
       "</style>\n",
       "<table border=\"1\" class=\"dataframe\">\n",
       "  <thead>\n",
       "    <tr style=\"text-align: right;\">\n",
       "      <th></th>\n",
       "      <th>h_mass</th>\n",
       "      <th>mueta_1</th>\n",
       "      <th>mueta_2</th>\n",
       "    </tr>\n",
       "  </thead>\n",
       "  <tbody>\n",
       "    <tr>\n",
       "      <th>h_mass</th>\n",
       "      <td>1.000000</td>\n",
       "      <td>-0.001999</td>\n",
       "      <td>-0.002065</td>\n",
       "    </tr>\n",
       "    <tr>\n",
       "      <th>mueta_1</th>\n",
       "      <td>-0.001999</td>\n",
       "      <td>1.000000</td>\n",
       "      <td>0.552442</td>\n",
       "    </tr>\n",
       "    <tr>\n",
       "      <th>mueta_2</th>\n",
       "      <td>-0.002065</td>\n",
       "      <td>0.552442</td>\n",
       "      <td>1.000000</td>\n",
       "    </tr>\n",
       "  </tbody>\n",
       "</table>\n",
       "</div>"
      ],
      "text/plain": [
       "           h_mass   mueta_1   mueta_2\n",
       "h_mass   1.000000 -0.001999 -0.002065\n",
       "mueta_1 -0.001999  1.000000  0.552442\n",
       "mueta_2 -0.002065  0.552442  1.000000"
      ]
     },
     "execution_count": 30,
     "metadata": {},
     "output_type": "execute_result"
    }
   ],
   "source": [
    "fullFrame.drop(['h_eta'],1).corr()"
   ]
  },
  {
   "cell_type": "code",
   "execution_count": 31,
   "metadata": {},
   "outputs": [
    {
     "data": {
      "image/png": "[encoded data removed]",
      "text/plain": [
       "<Figure size 720x720 with 2 Axes>"
      ]
     },
     "metadata": {
      "needs_background": "light"
     },
     "output_type": "display_data"
    }
   ],
   "source": [
    "plot_corr(fullFrame.drop(['h_eta'],1))"
   ]
  },
  {
   "cell_type": "code",
   "execution_count": 8,
   "metadata": {},
   "outputs": [],
   "source": [
    "fullFrame['label'] = pd.get_dummies(fullFrame.mclabel).values.tolist()"
   ]
  },
  {
   "cell_type": "code",
   "execution_count": 9,
   "metadata": {
    "scrolled": true
   },
   "outputs": [],
   "source": [
    "fullFrame = fullFrame.drop(['mclabel','h_mass'],1)"
   ]
  },
  {
   "cell_type": "code",
   "execution_count": 10,
   "metadata": {},
   "outputs": [],
   "source": [
    "# shuffle the data then split\n",
    "fullFrame = shuffle(fullFrame).reset_index(drop=True)"
   ]
  },
  {
   "cell_type": "code",
   "execution_count": 11,
   "metadata": {},
   "outputs": [],
   "source": [
    "trainDF, testDF = train_test_split(fullFrame, test_size=0.2)\n",
    "trainDF = trainDF.reset_index(drop=True)\n",
    "testDF = testDF.reset_index(drop=True)"
   ]
  },
  {
   "cell_type": "code",
   "execution_count": 12,
   "metadata": {},
   "outputs": [
    {
     "name": "stdout",
     "output_type": "stream",
     "text": [
      "2365667 591417\n"
     ]
    }
   ],
   "source": [
    "print(len(trainDF),len(testDF))\n"
   ]
  },
  {
   "cell_type": "code",
   "execution_count": 13,
   "metadata": {},
   "outputs": [
    {
     "data": {
      "text/plain": [
       "['hmumuScaler.save']"
      ]
     },
     "execution_count": 13,
     "metadata": {},
     "output_type": "execute_result"
    }
   ],
   "source": [
    "# preprocess (normalize) only training set!!\n",
    "## and save the result to use for test set later!\n",
    "cols = trainDF.drop('label',1).columns\n",
    "x = trainDF.drop('label',1).values\n",
    "min_max_scaler = preprocessing.MinMaxScaler()\n",
    "x_scaled = min_max_scaler.fit_transform(x)\n",
    "# later use min_max_scaler.transform() \n",
    "scaler_file = \"hmumuScaler.save\"\n",
    "joblib.dump(min_max_scaler,scaler_file)"
   ]
  },
  {
   "cell_type": "code",
   "execution_count": 14,
   "metadata": {},
   "outputs": [],
   "source": [
    "label = trainDF.label"
   ]
  },
  {
   "cell_type": "code",
   "execution_count": 15,
   "metadata": {},
   "outputs": [],
   "source": [
    "trainDF = pd.DataFrame(x_scaled,columns=cols)\n",
    "# fullFrame['label']=label"
   ]
  },
  {
   "cell_type": "code",
   "execution_count": 16,
   "metadata": {},
   "outputs": [],
   "source": [
    "trainDF['label']=label"
   ]
  },
  {
   "cell_type": "code",
   "execution_count": 17,
   "metadata": {},
   "outputs": [
    {
     "data": {
      "text/html": [
       "<div>\n",
       "<style scoped>\n",
       "    .dataframe tbody tr th:only-of-type {\n",
       "        vertical-align: middle;\n",
       "    }\n",
       "\n",
       "    .dataframe tbody tr th {\n",
       "        vertical-align: top;\n",
       "    }\n",
       "\n",
       "    .dataframe thead th {\n",
       "        text-align: right;\n",
       "    }\n",
       "</style>\n",
       "<table border=\"1\" class=\"dataframe\">\n",
       "  <thead>\n",
       "    <tr style=\"text-align: right;\">\n",
       "      <th></th>\n",
       "      <th>h_pt</th>\n",
       "      <th>h_eta</th>\n",
       "      <th>h_phi</th>\n",
       "      <th>h_deta</th>\n",
       "      <th>h_dphi</th>\n",
       "      <th>mueta_1</th>\n",
       "      <th>mueta_2</th>\n",
       "      <th>ncentJets</th>\n",
       "      <th>njets</th>\n",
       "      <th>mjj_1</th>\n",
       "      <th>mjj_2</th>\n",
       "      <th>detajj_1</th>\n",
       "      <th>detajj_2</th>\n",
       "      <th>nbtagJets</th>\n",
       "      <th>metpt</th>\n",
       "      <th>label</th>\n",
       "    </tr>\n",
       "  </thead>\n",
       "  <tbody>\n",
       "  </tbody>\n",
       "</table>\n",
       "</div>"
      ],
      "text/plain": [
       "Empty DataFrame\n",
       "Columns: [h_pt, h_eta, h_phi, h_deta, h_dphi, mueta_1, mueta_2, ncentJets, njets, mjj_1, mjj_2, detajj_1, detajj_2, nbtagJets, metpt, label]\n",
       "Index: []"
      ]
     },
     "execution_count": 17,
     "metadata": {},
     "output_type": "execute_result"
    }
   ],
   "source": [
    "trainDF[trainDF.isnull().any(axis=1)]"
   ]
  },
  {
   "cell_type": "code",
   "execution_count": 18,
   "metadata": {},
   "outputs": [],
   "source": [
    "trainDF.to_pickle(\"trainingDF.pkl\")\n",
    "testDF.to_pickle(\"testingDF.pkl\")"
   ]
  },
  {
   "cell_type": "code",
   "execution_count": null,
   "metadata": {},
   "outputs": [],
   "source": []
  }
 ],
 "metadata": {
  "kernelspec": {
   "display_name": "Python 3",
   "language": "python",
   "name": "python3"
  },
  "language_info": {
   "codemirror_mode": {
    "name": "ipython",
    "version": 3
   },
   "file_extension": ".py",
   "mimetype": "text/x-python",
   "name": "python",
   "nbconvert_exporter": "python",
   "pygments_lexer": "ipython3",
   "version": "3.7.7"
  }
 },
 "nbformat": 4,
 "nbformat_minor": 2
}
