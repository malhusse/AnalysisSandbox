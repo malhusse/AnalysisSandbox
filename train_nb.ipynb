{
 "cells": [
  {
   "cell_type": "code",
   "execution_count": null,
   "metadata": {},
   "outputs": [],
   "source": [
    "import sys,os\n",
    "import ROOT as R\n",
    "import glob"
   ]
  },
  {
   "cell_type": "code",
   "execution_count": null,
   "metadata": {},
   "outputs": [],
   "source": [
    "R.TMVA.Tools.Instance()\n",
    "R.gROOT.SetBatch()"
   ]
  },
  {
   "cell_type": "code",
   "execution_count": null,
   "metadata": {},
   "outputs": [],
   "source": [
    "files = glob.glob(\"ntupleFiles/*.root\")\n"
   ]
  },
  {
   "cell_type": "code",
   "execution_count": null,
   "metadata": {},
   "outputs": [],
   "source": [
    "t = R.TChain(\"ntupledData\")\n",
    "for file in files: t.Add(file)"
   ]
  },
  {
   "cell_type": "code",
   "execution_count": null,
   "metadata": {},
   "outputs": [],
   "source": [
    "outname=\"output.root\"\n",
    "out=R.TFile(outname,\"RECREATE\")"
   ]
  },
  {
   "cell_type": "code",
   "execution_count": null,
   "metadata": {},
   "outputs": [],
   "source": [
    "analysis=\"Classification\"\n",
    "factory = ROOT.TMVA.Factory(\"factory\",out,\"!V:!Silent:Color:DrawProgressBar:Transformations=I;:AnalysisType=%s\"%analysis)"
   ]
  },
  {
   "cell_type": "markdown",
   "metadata": {},
   "source": [
    "Features Missing\n",
    "\"htCent\""
   ]
  },
  {
   "cell_type": "code",
   "execution_count": null,
   "metadata": {},
   "outputs": [],
   "source": [
    "dataloader=R.TMVA.DataLoader(\"dataset\")\n",
    "features = [\"h_pt\",\"h_eta\",\"h_phi\",\"h_deta\",\"h_dphi\",\"mueta_1\",\n",
    "            \"mueta_2\",\"ncentJets\",\"njets\",\"mjj_1\",\"mjj_2\",\n",
    "            \"detajj_1\",\"detajj_2\",\"nbtagJets\",\"metpt\"]"
   ]
  },
  {
   "cell_type": "code",
   "execution_count": null,
   "metadata": {},
   "outputs": [],
   "source": [
    "for x in features:\n",
    "    dataloader.AddVariable(x)\n",
    "dataloader.AddSpectator(\"h_mass\")\n",
    "dataloader.SetBackgroundWeightExpression(\"eweight\")\n",
    "dataloader.SetSignalWeightExpression(\"eweight\")"
   ]
  },
  {
   "cell_type": "code",
   "execution_count": null,
   "metadata": {},
   "outputs": [],
   "source": [
    "dataloader.AddSignalTree(t,1.0)\n",
    "dataloader.AddBackgroundTree(t,1.0)\n",
    "# signal mclabel is negative, background is positive\n",
    "sigCut = R.TCut(\"(h_mass > 110 && h_mass < 150) && mclabel < 0\")\n",
    "bkgCut = R.TCut(\"(h_mass > 110 && h_mass < 150) && mclabel > 0\")\n",
    "dataloader. PrepareTrainingAndTestTree(sigCut,   bgCut, \"nTrain_Signal=0:nTrain_Background=0:SplitMode=Random:NormMode=NumEvents:!V\");\n"
   ]
  },
  {
   "cell_type": "code",
   "execution_count": null,
   "metadata": {},
   "outputs": [],
   "source": [
    "factory.BookMethod(dataloader, ROOT.TMVA.Types.kBDT, \"BDTG\",\n",
    "                \"!H:!V:NTrees=1200:MinNodeSize=3%:BoostType=Grad:Shrinkage=0.10:nCuts=40:MaxDepth=5:NodePurityLimit=0.99:SeparationType=SDivSqrtSPlusB:Pray\"\n",
    "                );"
   ]
  },
  {
   "cell_type": "code",
   "execution_count": null,
   "metadata": {},
   "outputs": [],
   "source": [
    "factory.TrainAllMethods();\n",
    "factory.TestAllMethods();\n",
    "factory.EvaluateAllMethods();"
   ]
  }
 ],
 "metadata": {
  "kernelspec": {
   "display_name": "Python 3",
   "language": "python",
   "name": "python3"
  },
  "language_info": {
   "codemirror_mode": {
    "name": "ipython",
    "version": 3
   },
   "file_extension": ".py",
   "mimetype": "text/x-python",
   "name": "python",
   "nbconvert_exporter": "python",
   "pygments_lexer": "ipython3",
   "version": "3.6.6"
  }
 },
 "nbformat": 4,
 "nbformat_minor": 2
}
