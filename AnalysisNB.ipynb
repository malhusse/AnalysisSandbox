{
 "cells": [
  {
   "cell_type": "code",
   "execution_count": 1,
   "metadata": {},
   "outputs": [
    {
     "name": "stdout",
     "output_type": "stream",
     "text": [
      "Welcome to JupyROOT 6.16/00\n"
     ]
    }
   ],
   "source": [
    "import sys, os\n",
    "import ROOT as R"
   ]
  },
  {
   "cell_type": "code",
   "execution_count": 2,
   "metadata": {},
   "outputs": [
    {
     "name": "stdout",
     "output_type": "stream",
     "text": [
      "env: ANALYSISHOME=/home/mo/Analysis/HMuMu\n"
     ]
    }
   ],
   "source": [
    "%env ANALYSISHOME=/home/mo/Analysis/HMuMu"
   ]
  },
  {
   "cell_type": "code",
   "execution_count": 3,
   "metadata": {},
   "outputs": [],
   "source": [
    "sys.path.append(os.path.join(os.environ[\"ANALYSISHOME\"], \"Configuration\", \"higgs\"))                     \n",
    " "
   ]
  },
  {
   "cell_type": "code",
   "execution_count": 4,
   "metadata": {},
   "outputs": [],
   "source": [
    "# R.gStyle.SetPalette(R.kCMYK)"
   ]
  },
  {
   "cell_type": "code",
   "execution_count": 5,
   "metadata": {},
   "outputs": [],
   "source": [
    "import Samples as S\n",
    "mc_samples = S.mc_background_2017\n",
    "mc_samples.update(S.mc_signal_2017)\n",
    "root_dic = []\n",
    "lumi = 41860"
   ]
  },
  {
   "cell_type": "code",
   "execution_count": 6,
   "metadata": {},
   "outputs": [],
   "source": [
    "for file in os.listdir(\"histoFiles/\"):\n",
    "    if file.endswith(\".root\") and not file.startswith(\"all\"):\n",
    "        nickname = file.replace(\".root\",\"\")\n",
    "        dic = {}\n",
    "        dic[\"fullname\"] = file\n",
    "        for k,v in mc_samples.items():\n",
    "            if nickname in k:\n",
    "                dic[\"isSignal\"] = v.isSignal                    \n",
    "        f = R.TFile.Open(\"histoFiles/\"+file)\n",
    "        nEvents = f.Get(\"dimuon_mass\").GetMaximum()\n",
    "        dic[\"wEvents\"] = nEvents\n",
    "        dic[\"TFile\"] = f\n",
    "        root_dic.append((nickname,dic))"
   ]
  },
  {
   "cell_type": "code",
   "execution_count": 7,
   "metadata": {},
   "outputs": [],
   "source": [
    "root_dic = sorted(root_dic, key= lambda el: el[1]['wEvents'])"
   ]
  },
  {
   "cell_type": "code",
   "execution_count": 8,
   "metadata": {},
   "outputs": [
    {
     "name": "stderr",
     "output_type": "stream",
     "text": [
      "Error in <TFile::TFile>: file histoFiles/allData.root does not exist\n"
     ]
    }
   ],
   "source": [
    "data = R.TFile.Open(\"histoFiles/allData.root\")"
   ]
  },
  {
   "cell_type": "code",
   "execution_count": 9,
   "metadata": {},
   "outputs": [],
   "source": [
    "bcColors = [40,30,41,42,43,35,46,47,38,28,29]\n",
    "sigColors = [2,3,4,6,8,9]"
   ]
  },
  {
   "cell_type": "code",
   "execution_count": 10,
   "metadata": {},
   "outputs": [
    {
     "data": {
      "image/png": "[encoded data removed]",
      "text/plain": [
       "<IPython.core.display.Image object>"
      ]
     },
     "metadata": {},
     "output_type": "display_data"
    }
   ],
   "source": [
    "# def plot_variable(variable, logy):\n",
    "variable = \"dimuon_mass\"\n",
    "logy = True\n",
    "canvas = R.TCanvas(\"c1\",\"c1\")\n",
    "canvas.cd()\n",
    "pad1 = R.TPad(\"pad1\", \"pad1\", 0, 0.3, 1, 1.0)\n",
    "pad1.SetBottomMargin(0)\n",
    "pad1.Draw()\n",
    "canvas.cd()\n",
    "pad2 = R.TPad(\"pad2\", \"pad2\", 0, 0.05, 1, 0.3)\n",
    "pad2.Draw()\n",
    "pad2.cd()\n",
    "pad2.SetTopMargin(0.05)\n",
    "pad2.SetBottomMargin(0.2)\n",
    "pad2.SetGridy()\n",
    "pad1.cd()\n",
    "\n",
    "bkgStack = R.THStack(\"bkgStack\",\"\")\n",
    "sigStack = R.THStack(\"sigStack\",\"\")\n",
    "allStack = R.THStack(\"allStack\",\"\")\n",
    "hdata = data.Get(variable)\n",
    "\n",
    "leg = R.TLegend(0.8, 0.7, .9, 1.)\n",
    "leg.SetHeader(\"Samples\")\n",
    "leg.AddEntry(hdata, \"data\")\n",
    "\n",
    "sigHistos = []\n",
    "i = 0\n",
    "j = 0\n",
    "for v in root_dic:\n",
    "    if not v[1][\"isSignal\"]:\n",
    "        histo = v[1][\"TFile\"].Get(variable)\n",
    "        histo.SetLineWidth(1)\n",
    "        histo.SetLineColor(R.kBlack)\n",
    "        histo.SetTitle(v[0].split(\"_\")[0])\n",
    "        histo.SetFillColor(bcColors[(i%len(bcColors))])\n",
    "        # multiply by lumi!\n",
    "        histo.Scale(lumi)\n",
    "        leg.AddEntry(histo,v[0].split(\"_\")[0])\n",
    "        bkgStack.Add(histo)\n",
    "        allStack.Add(histo)\n",
    "#             bgsum.Add(histo)\n",
    "        i+=1\n",
    "    if v[1][\"isSignal\"]:\n",
    "        histo = v[1][\"TFile\"].Get(variable)\n",
    "        histo.SetLineColor(sigColors[(j%len(sigColors))])\n",
    "        histo.Scale(lumi)\n",
    "        leg.AddEntry(histo,v[0].split(\"_\")[0])\n",
    "        sigHistos.append(histo)\n",
    "        sigStack.Add(histo)\n",
    "        allStack.Add(histo)\n",
    "        j+=1\n",
    "\n",
    "if variable == \"dimuon_mass\":\n",
    "    for i in range(hdata.GetNbinsX()):\n",
    "        if hdata.GetBinCenter(i+1)>120 and hdata.GetBinCenter(i+1)<130:\n",
    "            hdata.SetBinContent(i+1, 0)\n",
    "\n",
    "hdata.SetMarkerStyle(20)\n",
    "hdata.SetMarkerSize(.5)\n",
    "if logy:\n",
    "    pad1.SetLogy()\n",
    "    bkgStack.SetMinimum(.001)\n",
    "    \n",
    "hdata.SetStats(R.kFALSE)\n",
    "hdata.GetXaxis().SetLabelSize(0)\n",
    "bkgStack.Draw(\"hist\")\n",
    "for h in sigHistos:\n",
    "    h.Draw(\"hist same\")\n",
    "hdata.Draw(\"same p\")\n",
    "bkgStack.GetXaxis().SetTitle(variable)\n",
    "bkgStack.GetYaxis().SetTitle(\"# Events\")\n",
    "leg.Draw()\n",
    "R.gPad.Modified()\n",
    "\n",
    "pad2.cd()\n",
    "hratio = hdata.Clone()\n",
    "hratio.SetTitle(\"\")\n",
    "hratio.GetYaxis().SetTitle(\"Data / MC\")\n",
    "hratio.GetXaxis().SetTitle(variable)\n",
    "hratio.GetYaxis().SetNdivisions(6, R.kFALSE)\n",
    "hratio.GetYaxis().SetTitleSize(10)\n",
    "hratio.GetYaxis().SetTitleFont(43)\n",
    "hratio.GetYaxis().SetTitleOffset(1.55)\n",
    "hratio.GetYaxis().SetLabelFont(43)\n",
    "hratio.GetYaxis().SetLabelSize(15)\n",
    "hratio.GetXaxis().SetTitleSize(20)\n",
    "hratio.GetXaxis().SetTitleFont(43)\n",
    "hratio.GetXaxis().SetTitleOffset(4)\n",
    "hratio.GetXaxis().SetLabelFont(43)\n",
    "hratio.GetXaxis().SetLabelSize(15)\n",
    "hratio.Divide(allStack.GetStack().Last())\n",
    "hratio.SetStats(R.kFALSE)\n",
    "hratio.Draw(\"ep\")\n",
    "hratio.SetMaximum(1.6)\n",
    "hratio.SetMinimum(0.4)\n",
    "hratio.SetMarkerStyle(20)\n",
    "hratio.SetMarkerSize(0.5)\n",
    "R.gPad.Modified()\n",
    "canvas.Draw()\n",
    "\n",
    "# canvas.SaveAs(\"plots/\"+variable+\".pdf\")"
   ]
  },
  {
   "cell_type": "code",
   "execution_count": 11,
   "metadata": {},
   "outputs": [],
   "source": [
    "from math import sqrt"
   ]
  },
  {
   "cell_type": "code",
   "execution_count": 12,
   "metadata": {},
   "outputs": [],
   "source": [
    "jet_mass_dimuon_dic = {}\n",
    "for jetMass in range(0,1010,10):\n",
    "    bkg_stack = R.THStack(\"bkg{}\".format(jetMass),\"\")\n",
    "    sig_stack = R.THStack(\"sig{}\".format(jetMass),\"\")\n",
    "    histo_name = 'dimuon_mass_jet_{}'.format(jetMass)\n",
    "    for v in root_dic:\n",
    "        histo = v[1][\"TFile\"].Get(histo_name)\n",
    "        histo.Scale(lumi)\n",
    "        if v[1][\"isSignal\"]:\n",
    "            sig_stack.Add(histo)\n",
    "        else:\n",
    "            bkg_stack.Add(histo)\n",
    "    jet_mass_dimuon_dic[jetMass] = (sig_stack,bkg_stack)"
   ]
  },
  {
   "cell_type": "code",
   "execution_count": 13,
   "metadata": {},
   "outputs": [],
   "source": [
    "x = []\n",
    "y = []\n",
    "binlow = 41\n",
    "binhigh = 61\n",
    "for jetMass, stacks in jet_mass_dimuon_dic.items():\n",
    "    x.append(jetMass)\n",
    "    sigSum = stacks[0].GetStack().Last()\n",
    "    bkgSum = stacks[1].GetStack().Last()\n",
    "    sens = 0\n",
    "    for ibin in range(binlow,binhigh+1):\n",
    "        sigi = sigSum.GetBinContent(ibin)\n",
    "        bigi = bkgSum.GetBinContent(ibin)\n",
    "        sensi = sigi**2/bigi if bigi else 0\n",
    "        sens += sensi\n",
    "    yy = sqrt(sens) if sens > 0 else 0\n",
    "    y.append(yy)"
   ]
  },
  {
   "cell_type": "code",
   "execution_count": 14,
   "metadata": {},
   "outputs": [],
   "source": [
    "from array import array\n",
    "ax = array('f')\n",
    "ay = array('f')\n",
    "n = len(x)\n",
    "for i in range(n):\n",
    "    ax.append(x[i])\n",
    "    ay.append(y[i])"
   ]
  },
  {
   "cell_type": "code",
   "execution_count": 15,
   "metadata": {},
   "outputs": [
    {
     "name": "stderr",
     "output_type": "stream",
     "text": [
      "Info in <TCanvas::Print>: pdf file plots/dijet_mass_scan_lower.pdf has been created\n"
     ]
    },
    {
     "data": {
      "image/png": "[encoded data removed]",
      "text/plain": [
       "<IPython.core.display.Image object>"
      ]
     },
     "metadata": {},
     "output_type": "display_data"
    }
   ],
   "source": [
    "c1 = R.TCanvas('c4','c4')\n",
    "gr = R.TGraph(n,ax,ay)\n",
    "gr.SetMarkerStyle(8)\n",
    "gr.SetMarkerSize(.5)\n",
    "gr.SetTitle(\";Dijet Mass Lower Cut (GeV); sensitivity\")\n",
    "gr.Draw('APE')\n",
    "c1.Draw()\n",
    "c1.SaveAs('plots/dijet_mass_scan_lower.pdf')"
   ]
  },
  {
   "cell_type": "code",
   "execution_count": 16,
   "metadata": {},
   "outputs": [
    {
     "data": {
      "text/plain": [
       "1288.9482421875"
      ]
     },
     "execution_count": 16,
     "metadata": {},
     "output_type": "execute_result"
    }
   ],
   "source": [
    "jet_mass_dimuon_dic[0][1].GetMaximum()\n"
   ]
  },
  {
   "cell_type": "code",
   "execution_count": 17,
   "metadata": {},
   "outputs": [],
   "source": [
    "jet_mass_dimuon_r_dic = {}\n",
    "for jetMass in range(0,1010,10):\n",
    "    bkg_stack = R.THStack(\"bkg_r{}\".format(jetMass),\"\")\n",
    "    sig_stack = R.THStack(\"sig_r{}\".format(jetMass),\"\")\n",
    "    histo_name = 'dimuon_mass_jet_r_{}'.format(jetMass)\n",
    "    for v in root_dic:\n",
    "        histo = v[1][\"TFile\"].Get(histo_name)\n",
    "        histo.Scale(lumi)\n",
    "        if v[1][\"isSignal\"]:\n",
    "            sig_stack.Add(histo)\n",
    "        else:\n",
    "            bkg_stack.Add(histo)\n",
    "    jet_mass_dimuon_r_dic[jetMass] = (sig_stack,bkg_stack)"
   ]
  },
  {
   "cell_type": "code",
   "execution_count": 18,
   "metadata": {},
   "outputs": [],
   "source": [
    "xr = []\n",
    "yr = []\n",
    "binlow = 41\n",
    "binhigh = 61\n",
    "for jetMass, stacks in jet_mass_dimuon_r_dic.items():\n",
    "    xr.append(jetMass)\n",
    "    sigSum = stacks[0].GetStack().Last()\n",
    "    bkgSum = stacks[1].GetStack().Last()\n",
    "    for ibin in range(binlow,binhigh+1):\n",
    "        sigi = sigSum.GetBinContent(ibin)\n",
    "        bigi = bkgSum.GetBinContent(ibin)\n",
    "        sensi = sigi**2/bigi if bigi else 0\n",
    "        sens += sensi\n",
    "    yy = sqrt(sens) if sens > 0 else 0\n",
    "    yr.append(yy)"
   ]
  },
  {
   "cell_type": "code",
   "execution_count": 19,
   "metadata": {},
   "outputs": [],
   "source": [
    "from array import array\n",
    "axr = array('f')\n",
    "ayr = array('f')\n",
    "nr = len(xr)\n",
    "for i in range(n):\n",
    "    axr.append(xr[i])\n",
    "    ayr.append(yr[i])"
   ]
  },
  {
   "cell_type": "code",
   "execution_count": 20,
   "metadata": {},
   "outputs": [
    {
     "name": "stderr",
     "output_type": "stream",
     "text": [
      "Info in <TCanvas::Print>: pdf file plots/dijet_mass_scan_upper.pdf has been created\n"
     ]
    },
    {
     "data": {
      "image/png": "[encoded data removed]",
      "text/plain": [
       "<IPython.core.display.Image object>"
      ]
     },
     "metadata": {},
     "output_type": "display_data"
    }
   ],
   "source": [
    "c2 = R.TCanvas('c5','c5')\n",
    "grr = R.TGraph(nr,axr,ayr)\n",
    "grr.SetMarkerStyle(8)\n",
    "grr.SetMarkerSize(.5)\n",
    "grr.SetTitle(\";Dijet Mass Upper Cut (GeV); sensitivity\")\n",
    "grr.Draw('APE')\n",
    "c2.Draw()\n",
    "c2.SaveAs('plots/dijet_mass_scan_upper.pdf')"
   ]
  },
  {
   "cell_type": "code",
   "execution_count": 21,
   "metadata": {},
   "outputs": [],
   "source": [
    "# c7 = R.TCanvas(\"c7\",\"c7\")\n",
    "# sig = sigStack.GetStack().Last()\n",
    "# # sig.SetMarkerStyle(8)\n",
    "# # sig.SetMarkerSize(.5)\n",
    "# # sig.SetStats(R.kTRUE)\n",
    "# R.gStyle.SetOptStat(\"\")\n",
    "# R.gStyle.SetOptFit(1)\n",
    "# fit = R.TF1(\"fit\",\"crystalball\")\n",
    "# # print(fit.GetNumberFreeParameters())\n",
    "# fit.SetParameters(1.5,125,1.5,5,5);\n",
    "# sig.Fit(fit)\n",
    "# sig.Draw(\"\")\n",
    "# # c7.SetLogy()\n",
    "# sig.SetMinimum(.001)\n",
    "# c7.Draw()\n",
    "# c7.SaveAs(\"plots/sig_fit.pdf\")\n",
    "# # sig"
   ]
  },
  {
   "cell_type": "code",
   "execution_count": 22,
   "metadata": {},
   "outputs": [],
   "source": [
    "# canvas = R.TCanvas(\"c2\",\"c2\")\n",
    "# sigsum = sig_stack.GetStack().Last()\n",
    "# # sigsum = sigStack.GetStack().Last()  \n",
    "# # bkgsum = bkgStack.GetStack().Last()\n",
    "# # bkgsum.SetMinimum(.001)\n",
    "# # bkgsum.SetStats(R.kFALSE)\n",
    "# # sigsum.SetStats(R.kFALSE)\n",
    "# # bkgsum.Draw(\"hist\")\n",
    "# fit = R.TF1(\"fit\",\"crystalball\")\n",
    "# # print(fit.GetNumberFreeParameters())\n",
    "# fit.SetParameters(1.5,125,1.5,5,5);\n",
    "# sigsum.Fit(fit)\n",
    "# sigsum.Draw(\"same\")\n",
    "# # fit.GetParamters()\n",
    "# fit.Draw(\"same\")\n",
    "# # canvas.SetLogy()\n",
    "# canvas.Draw()"
   ]
  },
  {
   "cell_type": "code",
   "execution_count": 23,
   "metadata": {},
   "outputs": [],
   "source": [
    "# canvas2 = R.TCanvas(\"c3\",\"c3\")\n",
    "# test = R.TF1(\"test\",\"crystalball\")\n",
    "# test.SetParameters(60,125,5,1,1)\n",
    "# # test.Draw()\n",
    "# test.SetRange(100,150)\n",
    "# test.Draw()\n",
    "# # canvas2.SetLogy()\n",
    "# canvas2.Draw()"
   ]
  },
  {
   "cell_type": "code",
   "execution_count": null,
   "metadata": {},
   "outputs": [],
   "source": []
  },
  {
   "cell_type": "code",
   "execution_count": null,
   "metadata": {},
   "outputs": [],
   "source": []
  },
  {
   "cell_type": "code",
   "execution_count": null,
   "metadata": {},
   "outputs": [],
   "source": []
  },
  {
   "cell_type": "code",
   "execution_count": null,
   "metadata": {},
   "outputs": [],
   "source": []
  }
 ],
 "metadata": {
  "kernelspec": {
   "display_name": "Python 3",
   "language": "python",
   "name": "python3"
  },
  "language_info": {
   "codemirror_mode": {
    "name": "ipython",
    "version": 3
   },
   "file_extension": ".py",
   "mimetype": "text/x-python",
   "name": "python",
   "nbconvert_exporter": "python",
   "pygments_lexer": "ipython3",
   "version": "3.7.7"
  }
 },
 "nbformat": 4,
 "nbformat_minor": 2
}
