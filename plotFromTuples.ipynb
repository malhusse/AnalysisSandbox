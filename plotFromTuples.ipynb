{
 "cells": [
  {
   "cell_type": "code",
   "execution_count": 1,
   "metadata": {},
   "outputs": [],
   "source": [
    "year = \"2017\""
   ]
  },
  {
   "cell_type": "code",
   "execution_count": 2,
   "metadata": {},
   "outputs": [
    {
     "name": "stdout",
     "output_type": "stream",
     "text": [
      "Welcome to JupyROOT 6.16/00\n"
     ]
    }
   ],
   "source": [
    "import sys, os\n",
    "import ROOT as R"
   ]
  },
  {
   "cell_type": "code",
   "execution_count": 6,
   "metadata": {},
   "outputs": [
    {
     "name": "stdout",
     "output_type": "stream",
     "text": [
      "env: ANALYSISHOME=/home/mo/Analysis/HMuMu\n"
     ]
    }
   ],
   "source": [
    "%env ANALYSISHOME=/home/mo/Analysis/HMuMu"
   ]
  },
  {
   "cell_type": "code",
   "execution_count": 7,
   "metadata": {},
   "outputs": [],
   "source": [
    "sys.path.append(os.path.join(os.environ[\"ANALYSISHOME\"], \"Configuration\", \"higgs\"))                     \n",
    " "
   ]
  },
  {
   "cell_type": "code",
   "execution_count": 8,
   "metadata": {},
   "outputs": [],
   "source": [
    "import Samples as S"
   ]
  },
  {
   "cell_type": "code",
   "execution_count": 10,
   "metadata": {},
   "outputs": [],
   "source": [
    "datafile = \"../histoFiles/{}/allData{}.root\".format(year,year)\n",
    "mc2016 = S.mc_background_2016\n",
    "mc2016.update(S.mc_signal_2016)\n",
    "\n",
    "mc2017 = S.mc_background_2017\n",
    "mc2017.update(S.mc_signal_2017)\n",
    "\n",
    "mc2018 = S.mc_background_2018\n",
    "mc2018.update(S.mc_signal_2018)\n",
    "\n",
    "mc_datasets_dic = {\n",
    "    \"2016\": mc2016,\n",
    "    \"2017\": mc2017,\n",
    "    \"2018\": mc2018\n",
    "}\n",
    "jsonfiles = S.jsonfiles\n",
    "jsonfile = jsonfiles[year]"
   ]
  },
  {
   "cell_type": "code",
   "execution_count": 11,
   "metadata": {},
   "outputs": [],
   "source": [
    "dataFile = R.TFile.Open(datafile)"
   ]
  },
  {
   "cell_type": "code",
   "execution_count": 12,
   "metadata": {},
   "outputs": [],
   "source": [
    "lumi = jsonfile.intlumi"
   ]
  },
  {
   "cell_type": "code",
   "execution_count": 13,
   "metadata": {},
   "outputs": [],
   "source": [
    "mc_samples = mc_datasets_dic[year]"
   ]
  },
  {
   "cell_type": "code",
   "execution_count": 14,
   "metadata": {},
   "outputs": [],
   "source": [
    "root_dic = []\n",
    "for file in os.listdir(\"../histoFiles/{}/\".format(year)):\n",
    "    if file.endswith(\".root\") and not file.startswith(\"all\"):\n",
    "        nickname = file.replace(\".root\",\"\")\n",
    "        dic = {}\n",
    "        dic[\"fullname\"] = file\n",
    "        for k,v in mc_samples.items():\n",
    "            if nickname in k:\n",
    "                dic[\"isSignal\"] = v.isSignal                    \n",
    "        f = R.TFile.Open(\"../histoFiles/{}/\".format(year)+file)\n",
    "        dic[\"file\"] = f\n",
    "        root_dic.append((nickname,dic))"
   ]
  },
  {
   "cell_type": "code",
   "execution_count": 12,
   "metadata": {},
   "outputs": [],
   "source": [
    "# if M125 + isSignal we plot as a signal line\n",
    "# if not isSignal then add to background\n",
    "# plotting might kill memory? lol.."
   ]
  },
  {
   "cell_type": "code",
   "execution_count": 16,
   "metadata": {},
   "outputs": [],
   "source": [
    "bcColors = [40,30,41,42,43,35,46,47,38,28,29]\n",
    "sigColors = [2,3,4,6,8,9]"
   ]
  },
  {
   "cell_type": "code",
   "execution_count": 14,
   "metadata": {},
   "outputs": [
    {
     "data": {
      "image/png": "[encoded data removed]",
      "text/plain": [
       "<IPython.core.display.Image object>"
      ]
     },
     "metadata": {},
     "output_type": "display_data"
    }
   ],
   "source": [
    "variable = \"dimuon_phi\"\n",
    "\n",
    "logy = True\n",
    "canvas = R.TCanvas(\"c1\",\"c1\")\n",
    "canvas.cd()\n",
    "pad1 = R.TPad(\"pad1\", \"pad1\", 0, 0.3, 1, 1.0)\n",
    "pad1.SetBottomMargin(0)\n",
    "pad1.Draw()\n",
    "canvas.cd()\n",
    "pad2 = R.TPad(\"pad2\", \"pad2\", 0, 0.05, 1, 0.3)\n",
    "pad2.Draw()\n",
    "pad2.cd()\n",
    "pad2.SetTopMargin(0.05)\n",
    "pad2.SetBottomMargin(0.2)\n",
    "pad2.SetGridy()\n",
    "pad1.cd()\n",
    "\n",
    "bkgStack = R.THStack(\"bkgStack\",\"\")\n",
    "sigStack = R.THStack(\"sigStack\",\"\")\n",
    "allStack = R.THStack(\"allStack\",\"\")\n",
    "\n",
    "hdata = dataFile.Get(variable)\n",
    "\n",
    "leg = R.TLegend(0.8, 0.7, .9, 1.)\n",
    "leg.SetHeader(\"Samples\")\n",
    "leg.AddEntry(hdata, \"data\")\n",
    "\n",
    "sigHistos = []\n",
    "i = 0\n",
    "j = 0\n",
    "for v in root_dic:\n",
    "    # background\n",
    "    \n",
    "    if not v[1][\"isSignal\"]:\n",
    "        rnt = v[1][\"file\"].Get(\"ntupledData\")\n",
    "        rnt.Draw(\"{}*totalWeight>>tempHisto\".format(variable))\n",
    "        histo = R.gDirectory.Get(\"tempHisto\")\n",
    "        histo.SetLineWidth(1)\n",
    "        histo.SetLineColor(R.kBlack)\n",
    "#         histo.SetTitle(v[0])\n",
    "        histo.SetFillColor(bcColors[(i%len(bcColors))])\n",
    "        # multiply by lumi!\n",
    "        histo.Scale(lumi)\n",
    "        leg.AddEntry(histo,v[0])\n",
    "        bkgStack.Add(histo)\n",
    "        allStack.Add(histo)\n",
    "#       bgsum.Add(histo)\n",
    "        i+=1\n",
    "    # signal, only draw 125 GeV\n",
    "    if v[1][\"isSignal\"] and \"M125\" in v[1][\"fullname\"]:\n",
    "        rnt = v[1][\"file\"].Get(\"ntupledData\")\n",
    "        rnt.Draw(\"{}*totalWeight>>tempHisto\".format(variable))\n",
    "        histo = R.gDirectory.Get(\"tempHisto\")\n",
    "        histo.SetLineColor(sigColors[(j%len(sigColors))])\n",
    "        histo.Scale(lumi)\n",
    "        leg.AddEntry(histo,v[0])\n",
    "        sigHistos.append(histo)\n",
    "        sigStack.Add(histo)\n",
    "        allStack.Add(histo)\n",
    "        j+=1\n",
    "\n",
    "if variable == \"dimuon_mass\":\n",
    "    for i in range(hdata.GetNbinsX()):\n",
    "        if hdata.GetBinCenter(i+1)>120 and hdata.GetBinCenter(i+1)<130:\n",
    "            hdata.SetBinContent(i+1, 0)\n",
    "\n",
    "hdata.SetMarkerStyle(20)\n",
    "hdata.SetMarkerSize(.5)\n",
    "if logy:\n",
    "    pad1.SetLogy()\n",
    "    bkgStack.SetMinimum(.001)\n",
    "\n",
    "hdata.SetStats(R.kFALSE)\n",
    "hdata.GetXaxis().SetLabelSize(0)\n",
    "bkgStack.Draw(\"hist\")\n",
    "for h in sigHistos:\n",
    "    h.Draw(\"hist same\")\n",
    "hdata.Draw(\"same p\")\n",
    "bkgStack.GetXaxis().SetTitle(variable)\n",
    "bkgStack.GetYaxis().SetTitle(\"# Events\")\n",
    "leg.Draw()\n",
    "R.gPad.Modified()\n",
    "\n",
    "\n",
    "pad2.cd()\n",
    "hratio = hdata.Clone()\n",
    "hratio.SetTitle(\"\")\n",
    "hratio.GetYaxis().SetTitle(\"Data / MC\")\n",
    "hratio.GetXaxis().SetTitle(variable)\n",
    "hratio.GetYaxis().SetNdivisions(6, R.kFALSE)\n",
    "hratio.GetYaxis().SetTitleSize(10)\n",
    "hratio.GetYaxis().SetTitleFont(43)\n",
    "hratio.GetYaxis().SetTitleOffset(1.55)\n",
    "hratio.GetYaxis().SetLabelFont(43)\n",
    "hratio.GetYaxis().SetLabelSize(15)\n",
    "hratio.GetXaxis().SetTitleSize(20)\n",
    "hratio.GetXaxis().SetTitleFont(43)\n",
    "hratio.GetXaxis().SetTitleOffset(4)\n",
    "hratio.GetXaxis().SetLabelFont(43)\n",
    "hratio.GetXaxis().SetLabelSize(15)\n",
    "hratio.Divide(allStack.GetStack().Last())\n",
    "hratio.SetStats(R.kFALSE)\n",
    "hratio.Draw(\"ep\")\n",
    "hratio.SetMaximum(1.6)\n",
    "hratio.SetMinimum(0.4)\n",
    "hratio.SetMarkerStyle(20)\n",
    "hratio.SetMarkerSize(0.5)\n",
    "R.gPad.Modified()\n",
    "canvas.Draw()\n"
   ]
  },
  {
   "cell_type": "code",
   "execution_count": null,
   "metadata": {},
   "outputs": [],
   "source": []
  }
 ],
 "metadata": {
  "kernelspec": {
   "display_name": "Python 3",
   "language": "python",
   "name": "python3"
  },
  "language_info": {
   "codemirror_mode": {
    "name": "ipython",
    "version": 3
   },
   "file_extension": ".py",
   "mimetype": "text/x-python",
   "name": "python",
   "nbconvert_exporter": "python",
   "pygments_lexer": "ipython3",
   "version": "3.7.7"
  }
 },
 "nbformat": 4,
 "nbformat_minor": 2
}
